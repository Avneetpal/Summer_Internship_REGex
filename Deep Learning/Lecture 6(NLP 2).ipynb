{
 "cells": [
  {
   "cell_type": "markdown",
   "id": "7f205ad9",
   "metadata": {},
   "source": [
    "# Text Representation"
   ]
  },
  {
   "cell_type": "code",
   "execution_count": 1,
   "id": "b7d37a00",
   "metadata": {},
   "outputs": [],
   "source": [
    "import numpy as np\n",
    "import pandas as pd"
   ]
  },
  {
   "cell_type": "code",
   "execution_count": 2,
   "id": "833cb112",
   "metadata": {},
   "outputs": [],
   "source": [
    "df = pd.DataFrame({'text': ['people watch cricket', 'player was player', 'people write comment', 'cricket play comment'],\n",
    "                   'output': [1,1,0,0]})"
   ]
  },
  {
   "cell_type": "code",
   "execution_count": 3,
   "id": "b71b88ba",
   "metadata": {},
   "outputs": [
    {
     "data": {
      "text/html": [
       "<div>\n",
       "<style scoped>\n",
       "    .dataframe tbody tr th:only-of-type {\n",
       "        vertical-align: middle;\n",
       "    }\n",
       "\n",
       "    .dataframe tbody tr th {\n",
       "        vertical-align: top;\n",
       "    }\n",
       "\n",
       "    .dataframe thead th {\n",
       "        text-align: right;\n",
       "    }\n",
       "</style>\n",
       "<table border=\"1\" class=\"dataframe\">\n",
       "  <thead>\n",
       "    <tr style=\"text-align: right;\">\n",
       "      <th></th>\n",
       "      <th>text</th>\n",
       "      <th>output</th>\n",
       "    </tr>\n",
       "  </thead>\n",
       "  <tbody>\n",
       "    <tr>\n",
       "      <th>0</th>\n",
       "      <td>people watch cricket</td>\n",
       "      <td>1</td>\n",
       "    </tr>\n",
       "    <tr>\n",
       "      <th>1</th>\n",
       "      <td>player was player</td>\n",
       "      <td>1</td>\n",
       "    </tr>\n",
       "    <tr>\n",
       "      <th>2</th>\n",
       "      <td>people write comment</td>\n",
       "      <td>0</td>\n",
       "    </tr>\n",
       "    <tr>\n",
       "      <th>3</th>\n",
       "      <td>cricket play comment</td>\n",
       "      <td>0</td>\n",
       "    </tr>\n",
       "  </tbody>\n",
       "</table>\n",
       "</div>"
      ],
      "text/plain": [
       "                   text  output\n",
       "0  people watch cricket       1\n",
       "1     player was player       1\n",
       "2  people write comment       0\n",
       "3  cricket play comment       0"
      ]
     },
     "execution_count": 3,
     "metadata": {},
     "output_type": "execute_result"
    }
   ],
   "source": [
    "df"
   ]
  },
  {
   "cell_type": "code",
   "execution_count": 4,
   "id": "5163c135",
   "metadata": {},
   "outputs": [],
   "source": [
    "from sklearn.feature_extraction.text import CountVectorizer"
   ]
  },
  {
   "cell_type": "code",
   "execution_count": 5,
   "id": "8bc77366",
   "metadata": {},
   "outputs": [],
   "source": [
    "cv=CountVectorizer()"
   ]
  },
  {
   "cell_type": "code",
   "execution_count": 6,
   "id": "29b01323",
   "metadata": {},
   "outputs": [],
   "source": [
    "bow=cv.fit_transform(df['text'])"
   ]
  },
  {
   "cell_type": "code",
   "execution_count": 8,
   "id": "d49d40f0",
   "metadata": {},
   "outputs": [
    {
     "name": "stdout",
     "output_type": "stream",
     "text": [
      "{'people': 2, 'watch': 6, 'cricket': 1, 'player': 4, 'was': 5, 'write': 7, 'comment': 0, 'play': 3}\n"
     ]
    }
   ],
   "source": [
    "print(cv.vocabulary_)"
   ]
  },
  {
   "cell_type": "code",
   "execution_count": 9,
   "id": "b4e1ba39",
   "metadata": {},
   "outputs": [
    {
     "data": {
      "text/plain": [
       "array([[2, 2, 0, 0, 0, 0, 1, 1]], dtype=int64)"
      ]
     },
     "execution_count": 9,
     "metadata": {},
     "output_type": "execute_result"
    }
   ],
   "source": [
    "cv.transform([\" cricket watch and write comment of cricket comment\"]).toarray()"
   ]
  },
  {
   "cell_type": "code",
   "execution_count": 10,
   "id": "7bad9de0",
   "metadata": {},
   "outputs": [],
   "source": [
    "# 2-N-grams"
   ]
  },
  {
   "cell_type": "code",
   "execution_count": 11,
   "id": "89ab3de2",
   "metadata": {},
   "outputs": [],
   "source": [
    "#cv=CountVectorizer(ngram_range(2,2))"
   ]
  },
  {
   "cell_type": "code",
   "execution_count": 14,
   "id": "de13347a",
   "metadata": {},
   "outputs": [],
   "source": [
    "v=CountVectorizer(ngram_range=(1,2))\n",
    "# v=CountVectorizer(ngram_range=(2,2))"
   ]
  },
  {
   "cell_type": "code",
   "execution_count": 15,
   "id": "c6dc5d66",
   "metadata": {},
   "outputs": [],
   "source": [
    "bow=v.fit_transform(df['text'])"
   ]
  },
  {
   "cell_type": "code",
   "execution_count": 16,
   "id": "e445545c",
   "metadata": {},
   "outputs": [
    {
     "data": {
      "text/plain": [
       "0    people watch cricket\n",
       "1       player was player\n",
       "2    people write comment\n",
       "3    cricket play comment\n",
       "Name: text, dtype: object"
      ]
     },
     "execution_count": 16,
     "metadata": {},
     "output_type": "execute_result"
    }
   ],
   "source": [
    "df['text']"
   ]
  },
  {
   "cell_type": "code",
   "execution_count": 17,
   "id": "8cca5763",
   "metadata": {},
   "outputs": [
    {
     "name": "stdout",
     "output_type": "stream",
     "text": [
      "{'people': 3, 'watch': 12, 'cricket': 1, 'people watch': 4, 'watch cricket': 13, 'player': 8, 'was': 10, 'player was': 9, 'was player': 11, 'write': 14, 'comment': 0, 'people write': 5, 'write comment': 15, 'play': 6, 'cricket play': 2, 'play comment': 7}\n"
     ]
    }
   ],
   "source": [
    "print(v.vocabulary_)"
   ]
  },
  {
   "cell_type": "code",
   "execution_count": 18,
   "id": "f07d9187",
   "metadata": {},
   "outputs": [],
   "source": [
    "# TF (term Frequency)\n",
    "# 2 IDF(Inverse Document Frequency)"
   ]
  },
  {
   "cell_type": "code",
   "execution_count": 19,
   "id": "501d6c8d",
   "metadata": {},
   "outputs": [],
   "source": [
    "#TF(t,d) (Number of occurences of term t in document d)/(Total number of terms in the document d)\n",
    "# example ===>\n",
    "\n",
    "#d1 people watch cricket.\n",
    "#tf(people, d1) = 1/3\n",
    "\n",
    "#d2 match was match.\n",
    "#tf(match, d2) = 2/3\n"
   ]
  },
  {
   "cell_type": "code",
   "execution_count": 20,
   "id": "526940d1",
   "metadata": {},
   "outputs": [],
   "source": [
    "#IDF(t) = Loge (Total number of documents in the corpus)/(Number of documents with term t in them)\n",
    "# here corpus means number of sentences\n",
    "\n",
    "# Example ==>\n",
    "#d1 people watch cricket.\n",
    "#d2 = cricket was cricket.\n",
    "#d3 people write comment.\n",
    "#d4 cricket write comment\n",
    "\n",
    "#idf(cricket) = Log(4/4)\n",
    "#idf (people) = Log(4/2)"
   ]
  },
  {
   "cell_type": "code",
   "execution_count": 21,
   "id": "fc73286c",
   "metadata": {},
   "outputs": [],
   "source": [
    "# we can use this by apply feature_extraction method in sklearn"
   ]
  },
  {
   "cell_type": "code",
   "execution_count": 22,
   "id": "eef7eaeb",
   "metadata": {},
   "outputs": [
    {
     "data": {
      "text/html": [
       "<div>\n",
       "<style scoped>\n",
       "    .dataframe tbody tr th:only-of-type {\n",
       "        vertical-align: middle;\n",
       "    }\n",
       "\n",
       "    .dataframe tbody tr th {\n",
       "        vertical-align: top;\n",
       "    }\n",
       "\n",
       "    .dataframe thead th {\n",
       "        text-align: right;\n",
       "    }\n",
       "</style>\n",
       "<table border=\"1\" class=\"dataframe\">\n",
       "  <thead>\n",
       "    <tr style=\"text-align: right;\">\n",
       "      <th></th>\n",
       "      <th>text</th>\n",
       "      <th>output</th>\n",
       "    </tr>\n",
       "  </thead>\n",
       "  <tbody>\n",
       "    <tr>\n",
       "      <th>0</th>\n",
       "      <td>people watch cricket</td>\n",
       "      <td>1</td>\n",
       "    </tr>\n",
       "    <tr>\n",
       "      <th>1</th>\n",
       "      <td>player was player</td>\n",
       "      <td>1</td>\n",
       "    </tr>\n",
       "    <tr>\n",
       "      <th>2</th>\n",
       "      <td>people write comment</td>\n",
       "      <td>0</td>\n",
       "    </tr>\n",
       "    <tr>\n",
       "      <th>3</th>\n",
       "      <td>cricket play comment</td>\n",
       "      <td>0</td>\n",
       "    </tr>\n",
       "  </tbody>\n",
       "</table>\n",
       "</div>"
      ],
      "text/plain": [
       "                   text  output\n",
       "0  people watch cricket       1\n",
       "1     player was player       1\n",
       "2  people write comment       0\n",
       "3  cricket play comment       0"
      ]
     },
     "execution_count": 22,
     "metadata": {},
     "output_type": "execute_result"
    }
   ],
   "source": [
    "df"
   ]
  },
  {
   "cell_type": "code",
   "execution_count": 24,
   "id": "5fa6aba6",
   "metadata": {},
   "outputs": [
    {
     "data": {
      "text/plain": [
       "array([[0.        , 0.52640543, 0.52640543, 0.        , 0.        ,\n",
       "        0.        , 0.66767854, 0.        ],\n",
       "       [0.        , 0.        , 0.        , 0.        , 0.89442719,\n",
       "        0.4472136 , 0.        , 0.        ],\n",
       "       [0.52640543, 0.        , 0.52640543, 0.        , 0.        ,\n",
       "        0.        , 0.        , 0.66767854],\n",
       "       [0.52640543, 0.52640543, 0.        , 0.66767854, 0.        ,\n",
       "        0.        , 0.        , 0.        ]])"
      ]
     },
     "execution_count": 24,
     "metadata": {},
     "output_type": "execute_result"
    }
   ],
   "source": [
    "from sklearn.feature_extraction.text import TfidfVectorizer\n",
    "tfidf = TfidfVectorizer()\n",
    "tfidf.fit_transform(df['text']).toarray()"
   ]
  },
  {
   "cell_type": "code",
   "execution_count": 26,
   "id": "ccf64637",
   "metadata": {},
   "outputs": [
    {
     "name": "stdout",
     "output_type": "stream",
     "text": [
      "[1.51082562 1.51082562 1.51082562 1.91629073 1.91629073 1.91629073\n",
      " 1.91629073 1.91629073]\n",
      "['comment' 'cricket' 'people' 'play' 'player' 'was' 'watch' 'write']\n"
     ]
    }
   ],
   "source": [
    "print(tfidf.idf_)\n",
    "print(tfidf.get_feature_names_out())"
   ]
  },
  {
   "cell_type": "markdown",
   "id": "abf3bcfb",
   "metadata": {},
   "source": [
    "# WordEmbedding`"
   ]
  },
  {
   "cell_type": "code",
   "execution_count": null,
   "id": "18e5227a",
   "metadata": {},
   "outputs": [],
   "source": [
    "# In natural language processing word embedding is a term"
   ]
  }
 ],
 "metadata": {
  "kernelspec": {
   "display_name": "Python 3 (ipykernel)",
   "language": "python",
   "name": "python3"
  },
  "language_info": {
   "codemirror_mode": {
    "name": "ipython",
    "version": 3
   },
   "file_extension": ".py",
   "mimetype": "text/x-python",
   "name": "python",
   "nbconvert_exporter": "python",
   "pygments_lexer": "ipython3",
   "version": "3.11.5"
  }
 },
 "nbformat": 4,
 "nbformat_minor": 5
}
