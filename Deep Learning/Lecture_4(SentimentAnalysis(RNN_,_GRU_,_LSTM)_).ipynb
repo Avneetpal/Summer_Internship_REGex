{
  "nbformat": 4,
  "nbformat_minor": 0,
  "metadata": {
    "colab": {
      "provenance": []
    },
    "kernelspec": {
      "name": "python3",
      "display_name": "Python 3"
    },
    "language_info": {
      "name": "python"
    }
  },
  "cells": [
    {
      "cell_type": "code",
      "execution_count": 1,
      "metadata": {
        "id": "4GP7GmF2rgZf"
      },
      "outputs": [],
      "source": [
        "from tensorflow.keras.layers import SimpleRNN, LSTM, GRU , Bidirectional,Dense,Embedding\n",
        "from tensorflow.keras.datasets import imdb\n",
        "from tensorflow.keras.models import Sequential\n",
        "import numpy as np"
      ]
    },
    {
      "cell_type": "code",
      "source": [
        "# Getting reviews with words that come under 5000\n",
        "# most occurring words in the entire\n",
        "# corpus of textual review data\n",
        "vocab_size=5000\n",
        "(x_train,y_train),(x_test,y_test)=imdb.load_data(num_words=vocab_size)\n",
        "\n",
        "print(x_train[0])\n"
      ],
      "metadata": {
        "colab": {
          "base_uri": "https://localhost:8080/"
        },
        "id": "pr2LF82RwJG3",
        "outputId": "2cc06f87-90fc-4888-e933-742a7d14d837"
      },
      "execution_count": 2,
      "outputs": [
        {
          "output_type": "stream",
          "name": "stdout",
          "text": [
            "[1, 14, 22, 16, 43, 530, 973, 1622, 1385, 65, 458, 4468, 66, 3941, 4, 173, 36, 256, 5, 25, 100, 43, 838, 112, 50, 670, 2, 9, 35, 480, 284, 5, 150, 4, 172, 112, 167, 2, 336, 385, 39, 4, 172, 4536, 1111, 17, 546, 38, 13, 447, 4, 192, 50, 16, 6, 147, 2025, 19, 14, 22, 4, 1920, 4613, 469, 4, 22, 71, 87, 12, 16, 43, 530, 38, 76, 15, 13, 1247, 4, 22, 17, 515, 17, 12, 16, 626, 18, 2, 5, 62, 386, 12, 8, 316, 8, 106, 5, 4, 2223, 2, 16, 480, 66, 3785, 33, 4, 130, 12, 16, 38, 619, 5, 25, 124, 51, 36, 135, 48, 25, 1415, 33, 6, 22, 12, 215, 28, 77, 52, 5, 14, 407, 16, 82, 2, 8, 4, 107, 117, 2, 15, 256, 4, 2, 7, 3766, 5, 723, 36, 71, 43, 530, 476, 26, 400, 317, 46, 7, 4, 2, 1029, 13, 104, 88, 4, 381, 15, 297, 98, 32, 2071, 56, 26, 141, 6, 194, 2, 18, 4, 226, 22, 21, 134, 476, 26, 480, 5, 144, 30, 2, 18, 51, 36, 28, 224, 92, 25, 104, 4, 226, 65, 16, 38, 1334, 88, 12, 16, 283, 5, 16, 4472, 113, 103, 32, 15, 16, 2, 19, 178, 32]\n"
          ]
        }
      ]
    },
    {
      "cell_type": "code",
      "source": [
        "# getting all the words from word_index dictionary\n",
        "word_idx=imdb.get_word_index()\n",
        "\n",
        "# originally the index number of a value and not a key\n",
        "# hence converting the index as key and the words as values\n",
        "\n",
        "word_idx={i: word for word , i in word_idx.items()}\n",
        "\n",
        "# again printing the review\n",
        "print([word_idx[i] for i in x_train[0]])"
      ],
      "metadata": {
        "colab": {
          "base_uri": "https://localhost:8080/"
        },
        "id": "-WeVcK3rwmDj",
        "outputId": "e61eafc7-3d53-485c-9fcd-2342741d5298"
      },
      "execution_count": 3,
      "outputs": [
        {
          "output_type": "stream",
          "name": "stdout",
          "text": [
            "['the', 'as', 'you', 'with', 'out', 'themselves', 'powerful', 'lets', 'loves', 'their', 'becomes', 'reaching', 'had', 'journalist', 'of', 'lot', 'from', 'anyone', 'to', 'have', 'after', 'out', 'atmosphere', 'never', 'more', 'room', 'and', 'it', 'so', 'heart', 'shows', 'to', 'years', 'of', 'every', 'never', 'going', 'and', 'help', 'moments', 'or', 'of', 'every', 'chest', 'visual', 'movie', 'except', 'her', 'was', 'several', 'of', 'enough', 'more', 'with', 'is', 'now', 'current', 'film', 'as', 'you', 'of', 'mine', 'potentially', 'unfortunately', 'of', 'you', 'than', 'him', 'that', 'with', 'out', 'themselves', 'her', 'get', 'for', 'was', 'camp', 'of', 'you', 'movie', 'sometimes', 'movie', 'that', 'with', 'scary', 'but', 'and', 'to', 'story', 'wonderful', 'that', 'in', 'seeing', 'in', 'character', 'to', 'of', '70s', 'and', 'with', 'heart', 'had', 'shadows', 'they', 'of', 'here', 'that', 'with', 'her', 'serious', 'to', 'have', 'does', 'when', 'from', 'why', 'what', 'have', 'critics', 'they', 'is', 'you', 'that', \"isn't\", 'one', 'will', 'very', 'to', 'as', 'itself', 'with', 'other', 'and', 'in', 'of', 'seen', 'over', 'and', 'for', 'anyone', 'of', 'and', 'br', \"show's\", 'to', 'whether', 'from', 'than', 'out', 'themselves', 'history', 'he', 'name', 'half', 'some', 'br', 'of', 'and', 'odd', 'was', 'two', 'most', 'of', 'mean', 'for', '1', 'any', 'an', 'boat', 'she', 'he', 'should', 'is', 'thought', 'and', 'but', 'of', 'script', 'you', 'not', 'while', 'history', 'he', 'heart', 'to', 'real', 'at', 'and', 'but', 'when', 'from', 'one', 'bit', 'then', 'have', 'two', 'of', 'script', 'their', 'with', 'her', 'nobody', 'most', 'that', 'with', \"wasn't\", 'to', 'with', 'armed', 'acting', 'watch', 'an', 'for', 'with', 'and', 'film', 'want', 'an']\n"
          ]
        }
      ]
    },
    {
      "cell_type": "code",
      "source": [
        "# get the minimum and maximum lenght of review\n",
        "print(\"max length of review\",len(max((x_train+x_test),key=len)))\n",
        "print(\"min length of review\",len(min((x_train+x_test),key=len)))\n"
      ],
      "metadata": {
        "colab": {
          "base_uri": "https://localhost:8080/"
        },
        "id": "Yj5NhtXfxmCv",
        "outputId": "6a0519bb-d40f-44e4-88e1-da86d84b1cc8"
      },
      "execution_count": 4,
      "outputs": [
        {
          "output_type": "stream",
          "name": "stdout",
          "text": [
            "max length of review 2697\n",
            "min length of review 70\n"
          ]
        }
      ]
    },
    {
      "cell_type": "code",
      "source": [
        "from tensorflow.keras.preprocessing import sequence\n",
        "max_word=400\n",
        "x_train=sequence.pad_sequences(x_train,maxlen=max_word)\n",
        "x_test=sequence.pad_sequences(x_test,maxlen=max_word)\n",
        "\n",
        "x_valid,y_valid=x_train[:64],y_train[:64]\n",
        "x_train,y_train=x_train[:64],y_train[:64]"
      ],
      "metadata": {
        "id": "Ts2afinxx_8D"
      },
      "execution_count": 5,
      "outputs": []
    },
    {
      "cell_type": "code",
      "source": [
        "# fixing every word's embedding size to be 32\n",
        "embd_len =32\n",
        "\n",
        "# creating a RNN model\n",
        "\n",
        "RNN_model = Sequential(name=\"Simple_RNN\")\n",
        "RNN_model.add(Embedding(vocab_size,\n",
        "                        embd_len,\n",
        "                        input_length=max_word))\n",
        "\n",
        "#in case of a stacked(more than one layer of RNN)\n",
        "# use return_sequence=True\n",
        "\n",
        "RNN_model.add(SimpleRNN(128,\n",
        "                        activation='tanh',\n",
        "                        return_sequences=False))\n",
        "RNN_model.add(Dense(1, activation='sigmoid'))\n",
        "\n",
        "#printing model summary\n",
        "print(RNN_model.summary())\n",
        "\n",
        "#compiling model\n",
        "\n",
        "RNN_model.compile(\n",
        "    loss=\"binary_crossentropy\",\n",
        "    optimizer='adam',\n",
        "    metrics=['accuracy']\n",
        ")\n",
        "\n",
        "#training the model\n",
        "\n",
        "history = RNN_model.fit(x_train, y_train,\n",
        "                        batch_size=64,\n",
        "                        epochs=5,\n",
        "                        verbose=1,\n",
        "                        validation_data=(x_valid, y_valid))\n",
        "\n",
        "# printing model score on test data\n",
        "\n",
        "print()\n",
        "print(\"Simple_RNN Score---> \", RNN_model.evaluate(x_test, y_test, verbose=0))"
      ],
      "metadata": {
        "colab": {
          "base_uri": "https://localhost:8080/"
        },
        "id": "a8WSiEgGzoz4",
        "outputId": "defc4cc8-7cdb-4978-e6b5-7fa71fbdf2a0"
      },
      "execution_count": 6,
      "outputs": [
        {
          "output_type": "stream",
          "name": "stdout",
          "text": [
            "Model: \"Simple_RNN\"\n",
            "_________________________________________________________________\n",
            " Layer (type)                Output Shape              Param #   \n",
            "=================================================================\n",
            " embedding (Embedding)       (None, 400, 32)           160000    \n",
            "                                                                 \n",
            " simple_rnn (SimpleRNN)      (None, 128)               20608     \n",
            "                                                                 \n",
            " dense (Dense)               (None, 1)                 129       \n",
            "                                                                 \n",
            "=================================================================\n",
            "Total params: 180737 (706.00 KB)\n",
            "Trainable params: 180737 (706.00 KB)\n",
            "Non-trainable params: 0 (0.00 Byte)\n",
            "_________________________________________________________________\n",
            "None\n",
            "Epoch 1/5\n",
            "1/1 [==============================] - 2s 2s/step - loss: 0.6995 - accuracy: 0.4844 - val_loss: 0.5922 - val_accuracy: 0.8750\n",
            "Epoch 2/5\n",
            "1/1 [==============================] - 0s 225ms/step - loss: 0.5922 - accuracy: 0.8750 - val_loss: 0.6131 - val_accuracy: 0.6094\n",
            "Epoch 3/5\n",
            "1/1 [==============================] - 0s 238ms/step - loss: 0.6131 - accuracy: 0.6094 - val_loss: 0.5724 - val_accuracy: 0.6875\n",
            "Epoch 4/5\n",
            "1/1 [==============================] - 0s 225ms/step - loss: 0.5724 - accuracy: 0.6875 - val_loss: 0.6592 - val_accuracy: 0.4062\n",
            "Epoch 5/5\n",
            "1/1 [==============================] - 0s 231ms/step - loss: 0.6592 - accuracy: 0.4062 - val_loss: 0.4788 - val_accuracy: 0.8594\n",
            "\n",
            "Simple_RNN Score--->  [0.7132894396781921, 0.5029600262641907]\n"
          ]
        }
      ]
    },
    {
      "cell_type": "code",
      "source": [
        "# Defining GRU model\n",
        "gru_model = Sequential(name=\"GRU_Model\")\n",
        "gru_model.add(Embedding(vocab_size,\n",
        "embd_len,\n",
        "input_length=max_word))\n",
        "gru_model.add(GRU(128,\n",
        "activation='tanh',\n",
        "return_sequences=False))\n",
        "gru_model.add(Dense(1, activation='sigmoid'))\n",
        "\n",
        "# Printing the Summary\n",
        "print(gru_model.summary())\n",
        "\n",
        "# Compiling the model\n",
        "gru_model.compile(\n",
        "loss=\"binary_crossentropy\",\n",
        "optimizer='adam',\n",
        "metrics=['accuracy' ]\n",
        "\n",
        ")\n",
        "# trainig the gru model\n",
        "history2=gru_model.fit(x_train,y_train,\n",
        "                       batch_size=64,\n",
        "                       epochs=5,\n",
        "                       verbose=1,\n",
        "                       validation_data=(x_valid,y_valid))\n",
        "# printing model score on test data\n",
        "print()\n",
        "print(\"GRU model score ------>\", gru_model.evaluate(x_test,y_test,verbose=0))"
      ],
      "metadata": {
        "colab": {
          "base_uri": "https://localhost:8080/"
        },
        "id": "4GRMD4_E15QC",
        "outputId": "437c8b6a-31bb-4af1-a700-5b4f16142c2a"
      },
      "execution_count": 7,
      "outputs": [
        {
          "output_type": "stream",
          "name": "stdout",
          "text": [
            "Model: \"GRU_Model\"\n",
            "_________________________________________________________________\n",
            " Layer (type)                Output Shape              Param #   \n",
            "=================================================================\n",
            " embedding_1 (Embedding)     (None, 400, 32)           160000    \n",
            "                                                                 \n",
            " gru (GRU)                   (None, 128)               62208     \n",
            "                                                                 \n",
            " dense_1 (Dense)             (None, 1)                 129       \n",
            "                                                                 \n",
            "=================================================================\n",
            "Total params: 222337 (868.50 KB)\n",
            "Trainable params: 222337 (868.50 KB)\n",
            "Non-trainable params: 0 (0.00 Byte)\n",
            "_________________________________________________________________\n",
            "None\n",
            "Epoch 1/5\n",
            "1/1 [==============================] - 5s 5s/step - loss: 0.6936 - accuracy: 0.4844 - val_loss: 0.6898 - val_accuracy: 0.5938\n",
            "Epoch 2/5\n",
            "1/1 [==============================] - 1s 949ms/step - loss: 0.6898 - accuracy: 0.5938 - val_loss: 0.6861 - val_accuracy: 0.6094\n",
            "Epoch 3/5\n",
            "1/1 [==============================] - 1s 868ms/step - loss: 0.6861 - accuracy: 0.6094 - val_loss: 0.6822 - val_accuracy: 0.6094\n",
            "Epoch 4/5\n",
            "1/1 [==============================] - 1s 860ms/step - loss: 0.6822 - accuracy: 0.6094 - val_loss: 0.6779 - val_accuracy: 0.6094\n",
            "Epoch 5/5\n",
            "1/1 [==============================] - 1s 695ms/step - loss: 0.6779 - accuracy: 0.6094 - val_loss: 0.6733 - val_accuracy: 0.6094\n",
            "\n",
            "GRU model score ------> [0.6952596306800842, 0.5]\n"
          ]
        }
      ]
    },
    {
      "cell_type": "code",
      "source": [
        "#Defining LSTM model\n",
        "lstm_model = Sequential (name=\"LSTM_Model\")\n",
        "lstm_model.add(Embedding(vocab_size,\n",
        "                         embd_len,\n",
        "                         input_length=max_word))\n",
        "lstm_model.add(LSTM(128,\n",
        "                    activation = 'relu',\n",
        "                    return_sequences=False))\n",
        "lstm_model.add(Dense (1, activation='sigmoid'))\n",
        "\n",
        "#Printing Model Summary\n",
        "print(lstm_model.summary())\n",
        "\n",
        "#Compiling the model\n",
        "lstm_model.compile(\n",
        "    loss=\"binary_crossentropy\",\n",
        "    optimizer = \"adam\",\n",
        "    metrics=['accuracy'])\n"
      ],
      "metadata": {
        "colab": {
          "base_uri": "https://localhost:8080/"
        },
        "id": "pSjnZLlw5WEi",
        "outputId": "98f277fd-f29d-4cc0-a9de-555fde693c40"
      },
      "execution_count": 8,
      "outputs": [
        {
          "output_type": "stream",
          "name": "stdout",
          "text": [
            "Model: \"LSTM_Model\"\n",
            "_________________________________________________________________\n",
            " Layer (type)                Output Shape              Param #   \n",
            "=================================================================\n",
            " embedding_2 (Embedding)     (None, 400, 32)           160000    \n",
            "                                                                 \n",
            " lstm (LSTM)                 (None, 128)               82432     \n",
            "                                                                 \n",
            " dense_2 (Dense)             (None, 1)                 129       \n",
            "                                                                 \n",
            "=================================================================\n",
            "Total params: 242561 (947.50 KB)\n",
            "Trainable params: 242561 (947.50 KB)\n",
            "Non-trainable params: 0 (0.00 Byte)\n",
            "_________________________________________________________________\n",
            "None\n"
          ]
        }
      ]
    },
    {
      "cell_type": "markdown",
      "source": [
        "Bi directional LSTMS"
      ],
      "metadata": {
        "id": "nwowlRGM680_"
      }
    },
    {
      "cell_type": "code",
      "source": [
        "# defining Bidirectional LSTM model\n",
        "bi_lstm_model = Sequential(name=\"Bidirectional_LSTM\")\n",
        "bi_lstm_model.add(Embedding(vocab_size,\n",
        "embd_len,\n",
        "input_length=max_word))\n",
        "bi_lstm_model.add(Bidirectional(LSTM(128,\n",
        "activation='tanh',\n",
        "return_sequences=False)))\n",
        "bi_lstm_model.add(Dense(1, activation='sigmoid'))\n",
        "\n",
        "# Printing model summary\n",
        "print(bi_lstm_model.summary())\n",
        "\n",
        "# Compiling model summary\n",
        "bi_lstm_model.compile(\n",
        "loss=\"binary_crossentropy\",\n",
        "optimizer='adam',\n",
        "metrics=['accuracy']\n",
        ")\n",
        "\n",
        "# Training the model\n",
        "history4 = bi_lstm_model.fit(x_train, y_train,\n",
        "batch_size=64,\n",
        "epochs=5,\n",
        "verbose=2,\n",
        "validation_data=(x_test,y_test))\n",
        "\n",
        "# printing model score on the test data\n",
        "print()\n",
        "print(\"Bidirectional LSTM model Score-->\",\n",
        "      bi_lstm_model.evaluate(x_test, y_test, verbose=0))"
      ],
      "metadata": {
        "colab": {
          "base_uri": "https://localhost:8080/"
        },
        "id": "KiRFII-F7CHc",
        "outputId": "8d15fbe7-79b8-4c77-c575-9eff1a67e5a5"
      },
      "execution_count": 10,
      "outputs": [
        {
          "output_type": "stream",
          "name": "stdout",
          "text": [
            "Model: \"Bidirectional_LSTM\"\n",
            "_________________________________________________________________\n",
            " Layer (type)                Output Shape              Param #   \n",
            "=================================================================\n",
            " embedding_4 (Embedding)     (None, 400, 32)           160000    \n",
            "                                                                 \n",
            " bidirectional_1 (Bidirecti  (None, 256)               164864    \n",
            " onal)                                                           \n",
            "                                                                 \n",
            " dense_4 (Dense)             (None, 1)                 257       \n",
            "                                                                 \n",
            "=================================================================\n",
            "Total params: 325121 (1.24 MB)\n",
            "Trainable params: 325121 (1.24 MB)\n",
            "Non-trainable params: 0 (0.00 Byte)\n",
            "_________________________________________________________________\n",
            "None\n",
            "Epoch 1/5\n",
            "1/1 - 208s - loss: 0.6944 - accuracy: 0.3750 - val_loss: 0.6932 - val_accuracy: 0.5000 - 208s/epoch - 208s/step\n",
            "Epoch 2/5\n",
            "1/1 - 203s - loss: 0.6881 - accuracy: 0.6094 - val_loss: 0.6938 - val_accuracy: 0.5000 - 203s/epoch - 203s/step\n",
            "Epoch 3/5\n",
            "1/1 - 203s - loss: 0.6819 - accuracy: 0.6094 - val_loss: 0.6953 - val_accuracy: 0.5000 - 203s/epoch - 203s/step\n",
            "Epoch 4/5\n",
            "1/1 - 149s - loss: 0.6755 - accuracy: 0.6094 - val_loss: 0.6982 - val_accuracy: 0.5000 - 149s/epoch - 149s/step\n",
            "Epoch 5/5\n",
            "1/1 - 203s - loss: 0.6684 - accuracy: 0.6094 - val_loss: 0.7039 - val_accuracy: 0.5000 - 203s/epoch - 203s/step\n",
            "\n",
            "Bidirectional LSTM model Score--> [0.7038589119911194, 0.5]\n"
          ]
        }
      ]
    },
    {
      "cell_type": "code",
      "source": [],
      "metadata": {
        "id": "X84TdR8k8Mqs"
      },
      "execution_count": 9,
      "outputs": []
    }
  ]
}