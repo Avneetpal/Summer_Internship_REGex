{
 "cells": [
  {
   "cell_type": "code",
   "execution_count": 27,
   "id": "1b39071b-30fa-4868-8e88-19d12aab7e1e",
   "metadata": {},
   "outputs": [],
   "source": [
    "# Q.1 = Write statement to import numpy?\n",
    "import numpy as np"
   ]
  },
  {
   "cell_type": "code",
   "execution_count": 28,
   "id": "6b21b5d3-6f5a-4adf-8310-0ae2dd711188",
   "metadata": {},
   "outputs": [
    {
     "data": {
      "text/plain": [
       "array([10, 20, 30, 40])"
      ]
     },
     "execution_count": 28,
     "metadata": {},
     "output_type": "execute_result"
    }
   ],
   "source": [
    "#Q.2 = Create an array using numpy ?\n",
    "import numpy as np\n",
    "a=np.array([10,20,30,40])\n",
    "a\n"
   ]
  },
  {
   "cell_type": "code",
   "execution_count": 29,
   "id": "7b35e4f2-ced1-472d-b576-465694732b19",
   "metadata": {},
   "outputs": [
    {
     "data": {
      "text/plain": [
       "array([38, 17, 32, 94, 24, 18, 74,  7, 90, 99])"
      ]
     },
     "execution_count": 29,
     "metadata": {},
     "output_type": "execute_result"
    }
   ],
   "source": [
    "#Q.3 = Create an array of 10 random integers ?\n",
    "a=np.random.randint(1,100,10)\n",
    "a"
   ]
  },
  {
   "cell_type": "code",
   "execution_count": 30,
   "id": "b57da70d-7455-4d3a-93cd-23f97b7cc93e",
   "metadata": {},
   "outputs": [
    {
     "data": {
      "text/plain": [
       "array([10, 11, 12, 13, 14, 15, 16, 17, 18, 19])"
      ]
     },
     "execution_count": 30,
     "metadata": {},
     "output_type": "execute_result"
    }
   ],
   "source": [
    "#Q.4 = Create an array of elements from 10-20?\n",
    "\n",
    "\n",
    "a=np.arange(10,20)\n",
    "a"
   ]
  },
  {
   "cell_type": "code",
   "execution_count": 31,
   "id": "27520db0-a0af-40f0-a299-ccf7a10bc44f",
   "metadata": {},
   "outputs": [
    {
     "data": {
      "text/plain": [
       "array([[1, 2, 3],\n",
       "       [4, 5, 6],\n",
       "       [7, 8, 9]])"
      ]
     },
     "execution_count": 31,
     "metadata": {},
     "output_type": "execute_result"
    }
   ],
   "source": [
    "#Q.6 = Create a one dimensional array and convert that into 3*3 matrix ?\n",
    "\n",
    "a=np.array([1,2,3,4,5,6,7,8,9])\n",
    "a.reshape(3,3)"
   ]
  },
  {
   "cell_type": "code",
   "execution_count": 32,
   "id": "45bb46ff-c044-4fd3-b8af-a4f1a79e9234",
   "metadata": {},
   "outputs": [
    {
     "data": {
      "text/plain": [
       "array([5, 5, 5, 5, 5, 5, 5, 5, 5, 5])"
      ]
     },
     "execution_count": 32,
     "metadata": {},
     "output_type": "execute_result"
    }
   ],
   "source": [
    "#Q.5 = Create an array which contains value 5, 10 times ?\n",
    "a=np.random.randint(5,6,10)\n",
    "a"
   ]
  },
  {
   "cell_type": "code",
   "execution_count": 33,
   "id": "4191f935-4fee-440d-abcc-9fb694f89058",
   "metadata": {},
   "outputs": [
    {
     "data": {
      "text/plain": [
       "array([[0.42247324, 0.22135105, 0.13108999],\n",
       "       [0.36179777, 0.67086895, 0.79338884],\n",
       "       [0.48678737, 0.08837843, 0.83845047]])"
      ]
     },
     "execution_count": 33,
     "metadata": {},
     "output_type": "execute_result"
    }
   ],
   "source": [
    "#Q.7 = Create a 2D array of size 3*3 but all the elements should be between 0 to 1?\n",
    "a=np.random.rand(3,3)\n",
    "a"
   ]
  },
  {
   "cell_type": "code",
   "execution_count": 34,
   "id": "72491baf-3077-4ea2-ad56-2c2d01ba69e5",
   "metadata": {},
   "outputs": [
    {
     "data": {
      "text/plain": [
       "array([[ 1,  2, 10, 20],\n",
       "       [ 3,  4, 30, 40]])"
      ]
     },
     "execution_count": 34,
     "metadata": {},
     "output_type": "execute_result"
    }
   ],
   "source": [
    "#Q.8 = Concatenate 2D array horizontally and vertically?\n",
    "a=np.array([1,2,3,4]).reshape(2,2)\n",
    "b=np.array([10,20,30,40]).reshape(2,2)\n",
    "np.hstack((a,b))\n"
   ]
  },
  {
   "cell_type": "code",
   "execution_count": 25,
   "id": "c2b32bbb-ba75-4e9c-8fe4-4a42be6c6c39",
   "metadata": {},
   "outputs": [
    {
     "data": {
      "text/plain": [
       "array([[ 1,  2],\n",
       "       [ 3,  4],\n",
       "       [10, 20],\n",
       "       [30, 40]])"
      ]
     },
     "execution_count": 25,
     "metadata": {},
     "output_type": "execute_result"
    }
   ],
   "source": [
    "\n",
    "np.vstack((a,b))"
   ]
  }
 ],
 "metadata": {
  "kernelspec": {
   "display_name": "Python 3 (ipykernel)",
   "language": "python",
   "name": "python3"
  },
  "language_info": {
   "codemirror_mode": {
    "name": "ipython",
    "version": 3
   },
   "file_extension": ".py",
   "mimetype": "text/x-python",
   "name": "python",
   "nbconvert_exporter": "python",
   "pygments_lexer": "ipython3",
   "version": "3.12.0"
  }
 },
 "nbformat": 4,
 "nbformat_minor": 5
}
