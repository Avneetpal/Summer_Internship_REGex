{
 "cells": [
  {
   "cell_type": "markdown",
   "id": "08415ca0-5c45-42b7-91fa-8545abd0a931",
   "metadata": {},
   "source": [
    "# lambda function example"
   ]
  },
  {
   "cell_type": "code",
   "execution_count": 2,
   "id": "3e54e624-1da9-44ff-b4e5-5360118174dc",
   "metadata": {},
   "outputs": [
    {
     "name": "stdout",
     "output_type": "stream",
     "text": [
      "30\n"
     ]
    }
   ],
   "source": [
    "x = lambda a, b: a * b\n",
    "print(x(5, 6))"
   ]
  },
  {
   "cell_type": "code",
   "execution_count": 29,
   "id": "af9dd2f0-3613-4ff0-997a-e57312d71711",
   "metadata": {},
   "outputs": [
    {
     "name": "stdout",
     "output_type": "stream",
     "text": [
      "9\n"
     ]
    }
   ],
   "source": [
    "bigger=lambda a,b: a if(a>b)  else b\n",
    "print(bigger(9,3))\n",
    "          "
   ]
  },
  {
   "cell_type": "code",
   "execution_count": 30,
   "id": "adfb11a4-ab79-4ff4-9a9b-9747208749c1",
   "metadata": {},
   "outputs": [
    {
     "name": "stdout",
     "output_type": "stream",
     "text": [
      "5\n"
     ]
    }
   ],
   "source": [
    "\n",
    "def incrementor(n):\n",
    "    return lambda x: x + n\n",
    "\n",
    "increment = incrementor(2)\n",
    "print(increment(3))  \n",
    "\n"
   ]
  },
  {
   "cell_type": "code",
   "execution_count": 32,
   "id": "805e4a82-5e1e-46ea-bb60-c1758485e990",
   "metadata": {},
   "outputs": [
    {
     "name": "stdout",
     "output_type": "stream",
     "text": [
      "[2, 4, 6, 8, 10]\n"
     ]
    }
   ],
   "source": [
    "\n",
    "numbers = [1, 2, 3, 4, 5]\n",
    "doubled = list(map(lambda x: x * 2, numbers))\n",
    "print(doubled)  \n"
   ]
  },
  {
   "cell_type": "code",
   "execution_count": 36,
   "id": "a0c68b8f-5cb8-40b5-9d6e-fcab3827df9c",
   "metadata": {},
   "outputs": [
    {
     "name": "stdout",
     "output_type": "stream",
     "text": [
      "6\n",
      "7\n",
      "8\n",
      "9\n",
      "10\n"
     ]
    }
   ],
   "source": [
    "List = [1,2,3,4,5]\n",
    "add_5 = lambda x : x+5\n",
    "for i in List:\n",
    "    print(add_5(i))"
   ]
  },
  {
   "cell_type": "markdown",
   "id": "7f7ffa9d-0976-45c5-8a23-f6dd06a91a0a",
   "metadata": {},
   "source": [
    "# map function example"
   ]
  },
  {
   "cell_type": "code",
   "execution_count": 35,
   "id": "bd875f80-8a91-469f-8b05-0f3d47ce88f6",
   "metadata": {},
   "outputs": [
    {
     "name": "stdout",
     "output_type": "stream",
     "text": [
      "[1, 4, 9, 16, 25]\n"
     ]
    }
   ],
   "source": [
    "numbers = [1, 2, 3, 4, 5]\n",
    "square = list(map(lambda x: x * x, numbers))\n",
    "print(square)  \n"
   ]
  },
  {
   "cell_type": "code",
   "execution_count": 9,
   "id": "da8dea4e-a6f5-4eb4-8d10-5722956ca1f7",
   "metadata": {},
   "outputs": [
    {
     "name": "stdout",
     "output_type": "stream",
     "text": [
      "[5, 3]\n"
     ]
    }
   ],
   "source": [
    "x = [\"hello\", \"hii\"]\n",
    "result = list(map(lambda i: len(i), x))\n",
    "print(result)  \n"
   ]
  },
  {
   "cell_type": "code",
   "execution_count": 22,
   "id": "89e5814b-8816-4c72-90f3-58c6f188567c",
   "metadata": {},
   "outputs": [
    {
     "name": "stdout",
     "output_type": "stream",
     "text": [
      "True\n"
     ]
    }
   ],
   "source": [
    "parangram = \"The quick brown fox jumps over the lazy dog\"\n",
    "\n",
    "def pangram(y):\n",
    "    y = y.lower()\n",
    "    alphabet = \"abcdefghijklmnopqrstuvwxyz\"\n",
    "    return all(map(lambda char: char in y, alphabet))\n",
    "\n",
    "print(pangram(parangram))\n"
   ]
  },
  {
   "cell_type": "code",
   "execution_count": 14,
   "id": "6381dd68-603d-4ca1-9ea6-b6fe8b090e7d",
   "metadata": {},
   "outputs": [
    {
     "name": "stdin",
     "output_type": "stream",
     "text": [
      "enter string ac\n"
     ]
    },
    {
     "name": "stdout",
     "output_type": "stream",
     "text": [
      "['acac', 'acacac', 'acacacac']\n"
     ]
    }
   ],
   "source": [
    "x=[2,3,4]\n",
    "enter=input(\"enter string\")\n",
    "result=list(map(lambda i : enter*i,x))\n",
    "print(result)"
   ]
  },
  {
   "cell_type": "code",
   "execution_count": 24,
   "id": "4e9f09c1-217e-4d1e-b347-093c078b2944",
   "metadata": {},
   "outputs": [
    {
     "name": "stdout",
     "output_type": "stream",
     "text": [
      "[5, 7, 9]\n"
     ]
    }
   ],
   "source": [
    "num1=[1,2,3]\n",
    "num2=[4,5,6]\n",
    "result=list(map(lambda x,y:x+y,num1,num2))\n",
    "print(result)"
   ]
  },
  {
   "cell_type": "code",
   "execution_count": null,
   "id": "10363d32-f88e-4375-b375-3dc906d3f34e",
   "metadata": {},
   "outputs": [],
   "source": []
  },
  {
   "cell_type": "markdown",
   "id": "231b1215-12fb-44a6-81a9-924a834c6d7d",
   "metadata": {},
   "source": [
    "# filter function example"
   ]
  },
  {
   "cell_type": "code",
   "execution_count": 5,
   "id": "7cb4cffb-e12f-4d56-9c5d-b27e3d5f7a8e",
   "metadata": {},
   "outputs": [
    {
     "data": {
      "text/plain": [
       "[3, 5]"
      ]
     },
     "execution_count": 5,
     "metadata": {},
     "output_type": "execute_result"
    }
   ],
   "source": [
    "mylist=[2,3,4,5]\n",
    "list(filter(lambda  i: i%2!=0 ,mylist))"
   ]
  },
  {
   "cell_type": "code",
   "execution_count": 11,
   "id": "324b59ef-cede-40ac-85b3-219c1d68e844",
   "metadata": {},
   "outputs": [
    {
     "name": "stdout",
     "output_type": "stream",
     "text": [
      "['hello', 'byyy']\n"
     ]
    }
   ],
   "source": [
    "x = [\"hello\", \"hii\", \"byyy\"]\n",
    "result = list(filter(lambda i: len(i)>3, x))\n",
    "print(result)  \n"
   ]
  },
  {
   "cell_type": "code",
   "execution_count": 42,
   "id": "24ac42a1-16b3-4eee-b436-0f5f20976e4c",
   "metadata": {},
   "outputs": [
    {
     "name": "stdout",
     "output_type": "stream",
     "text": [
      "['apple', 'elderberry']\n"
     ]
    }
   ],
   "source": [
    "string_list = [\"apple\", \"banana\", \"cherry\", \"date\", \"elderberry\"]\n",
    "vowel = list(filter(lambda x: x[0]=='a' or x[0]=='e' or x[0]=='i' or x[0]=='o' or x[0]=='u', string_list))\n",
    "print(vowel)"
   ]
  },
  {
   "cell_type": "code",
   "execution_count": 31,
   "id": "14d3cd5f-3e01-4c83-b791-54917d2c7462",
   "metadata": {},
   "outputs": [
    {
     "name": "stdout",
     "output_type": "stream",
     "text": [
      "[2, 4, 6]\n"
     ]
    }
   ],
   "source": [
    "\n",
    "numbers = [1, 2, 3, 4, 5, 6]\n",
    "evens = list(filter(lambda x: x % 2 == 0, numbers))\n",
    "print(evens)  \n"
   ]
  },
  {
   "cell_type": "code",
   "execution_count": 39,
   "id": "a908e700-9a9f-46dc-9352-dafed811ff2f",
   "metadata": {},
   "outputs": [
    {
     "name": "stdout",
     "output_type": "stream",
     "text": [
      "['apple', 'banana', 'cherry', 'date', 'elderberry']\n"
     ]
    }
   ],
   "source": [
    "string_list = [\"apple\", \"banana\", '', \"cherry\", \"date\", '', \"elderberry\"]\n",
    "remove = list(filter(lambda x: x!='', string_list))\n",
    "print(remove)"
   ]
  },
  {
   "cell_type": "code",
   "execution_count": null,
   "id": "b232da69-bf35-48eb-a980-74f036b93bf5",
   "metadata": {},
   "outputs": [],
   "source": []
  }
 ],
 "metadata": {
  "kernelspec": {
   "display_name": "Python 3 (ipykernel)",
   "language": "python",
   "name": "python3"
  },
  "language_info": {
   "codemirror_mode": {
    "name": "ipython",
    "version": 3
   },
   "file_extension": ".py",
   "mimetype": "text/x-python",
   "name": "python",
   "nbconvert_exporter": "python",
   "pygments_lexer": "ipython3",
   "version": "3.12.0"
  }
 },
 "nbformat": 4,
 "nbformat_minor": 5
}
