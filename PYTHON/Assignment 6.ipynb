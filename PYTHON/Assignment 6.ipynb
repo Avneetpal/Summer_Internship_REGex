{
 "cells": [
  {
   "cell_type": "code",
   "execution_count": 2,
   "id": "05482ea1-f920-4c39-85f5-03c6b7a8a7b3",
   "metadata": {},
   "outputs": [
    {
     "name": "stdout",
     "output_type": "stream",
     "text": [
      "3 2\n"
     ]
    }
   ],
   "source": [
    "#1).Swap the number without using third varible\n",
    "num1=2\n",
    "num2=3\n",
    "num1,num2=num2,num1\n",
    "print(num1,num2)"
   ]
  },
  {
   "cell_type": "code",
   "execution_count": 13,
   "id": "06a98dd6-0940-4c06-b05a-de02bdc80aba",
   "metadata": {},
   "outputs": [
    {
     "name": "stdout",
     "output_type": "stream",
     "text": [
      "2 8 8 8 1 "
     ]
    }
   ],
   "source": [
    "#2). Write a Program to extract each digit from an integer in the reverse order.\n",
    "no=18882\n",
    "string=str(no)[::-1]\n",
    "for i in string:\n",
    "    print(i,end=\" \")\n"
   ]
  },
  {
   "cell_type": "code",
   "execution_count": 14,
   "id": "b52b5089-f23c-4c67-89b6-98952105f7fb",
   "metadata": {},
   "outputs": [
    {
     "data": {
      "text/plain": [
       "12"
      ]
     },
     "execution_count": 14,
     "metadata": {},
     "output_type": "execute_result"
    }
   ],
   "source": [
    "#Write a program that will give you the sum of 3 digits\n",
    "\n",
    "def add_3(x,y,z):\n",
    "    return (x+y+z)\n",
    "\n",
    "add_3(3,4,5)"
   ]
  },
  {
   "cell_type": "code",
   "execution_count": 18,
   "id": "7c01690f-944e-4280-bc49-cf02e3c9dd4c",
   "metadata": {},
   "outputs": [
    {
     "name": "stdin",
     "output_type": "stream",
     "text": [
      "enter no 1 4\n",
      "enter no 2 5\n",
      "enter no 3 5\n"
     ]
    },
    {
     "data": {
      "text/plain": [
       "66"
      ]
     },
     "execution_count": 18,
     "metadata": {},
     "output_type": "execute_result"
    }
   ],
   "source": [
    " #Write a program that will take three digits from the user and add the square of each digit.\n",
    "def square_add(x,y,z):\n",
    "    return(x*x+y*y+z*z)\n",
    "x=int(input(\"enter no 1\"))\n",
    "y=int(input(\"enter no 2\"))\n",
    "z=int(input(\"enter no 3\"))\n",
    "square_add(x,y,z)\n",
    "\n"
   ]
  },
  {
   "cell_type": "code",
   "execution_count": 5,
   "id": "e5e29d5a-88a6-4194-8d88-7db42035a0ef",
   "metadata": {},
   "outputs": [
    {
     "name": "stdin",
     "output_type": "stream",
     "text": [
      "enter no 153\n"
     ]
    },
    {
     "name": "stdout",
     "output_type": "stream",
     "text": [
      "armstrong\n"
     ]
    }
   ],
   "source": [
    "# Write a program that will check whether the number is armstrong number or not.\n",
    "no=int(input(\"enter no\"))\n",
    "temp=no\n",
    "sum=0\n",
    "while(no>0):\n",
    "    res=no%10\n",
    "    sum+=(res**3)\n",
    "    no=no//10\n",
    "\n",
    "if(sum==temp):\n",
    "    print(\"armstrong\")\n",
    "else:\n",
    "    print(\"not armstrong\")"
   ]
  },
  {
   "cell_type": "code",
   "execution_count": 5,
   "id": "da0fb1ed-8348-442a-bee1-f64817ee29cc",
   "metadata": {},
   "outputs": [
    {
     "name": "stdin",
     "output_type": "stream",
     "text": [
      "enter no 1634\n"
     ]
    },
    {
     "name": "stdout",
     "output_type": "stream",
     "text": [
      "narcissist\n"
     ]
    }
   ],
   "source": [
    "#Write a program that will take user input of (4 digits number) and check whether the number is narcissist number or not.\n",
    "no=int(input(\"enter no\"))\n",
    "temp=no\n",
    "length=len(str(no))\n",
    "sum=0\n",
    "while(no>0):\n",
    "    res=no%10\n",
    "    sum+=(res**length)\n",
    "    no=no//10\n",
    "\n",
    "if(sum==temp):\n",
    "    print(\"narcissist\")\n",
    "else:\n",
    "    print(\"not narcissist\")"
   ]
  },
  {
   "cell_type": "code",
   "execution_count": 12,
   "id": "f8e73949-761a-45cb-b92f-888c87a0327e",
   "metadata": {},
   "outputs": [
    {
     "name": "stdout",
     "output_type": "stream",
     "text": [
      "float no 12.00\n"
     ]
    }
   ],
   "source": [
    "#Display float number with 2 decimal places using print()\n",
    "num=12\n",
    "print(f\"float no {num:.2f}\")"
   ]
  },
  {
   "cell_type": "code",
   "execution_count": 23,
   "id": "0ad156a7-563a-44b2-9afc-7044132c9e39",
   "metadata": {},
   "outputs": [
    {
     "name": "stdin",
     "output_type": "stream",
     "text": [
      "enter no 6\n"
     ]
    },
    {
     "name": "stdout",
     "output_type": "stream",
     "text": [
      "[1, 2, 3, 6]\n"
     ]
    }
   ],
   "source": [
    "# Print all factors of a given number provided by the user.\n",
    "no=int(input(\"enter no\"))\n",
    "mylist=[]\n",
    "for i in range(1,no+1):\n",
    "    if no%i==0:\n",
    "        mylist.append(i)\n",
    "\n",
    "print(mylist)\n"
   ]
  },
  {
   "cell_type": "code",
   "execution_count": 27,
   "id": "f102ff25-377b-42f6-bff5-41ca3a9a138f",
   "metadata": {},
   "outputs": [
    {
     "name": "stdin",
     "output_type": "stream",
     "text": [
      "enter no 5\n",
      "enter no 8\n",
      "enter no 7\n",
      "enter no 6\n",
      "enter no 32\n"
     ]
    },
    {
     "name": "stdout",
     "output_type": "stream",
     "text": [
      "[5.0, 8.0, 7.0, 6.0, 32.0]\n"
     ]
    }
   ],
   "source": [
    "# Q9 Accept a list of 5 float numbers as an input from the user\n",
    "mylist=[]\n",
    "for i in range(1,6):\n",
    "    val=float(input(\"enter no\"))\n",
    "    mylist.append(val)\n",
    "print(mylist)"
   ]
  },
  {
   "cell_type": "code",
   "execution_count": 24,
   "id": "743c2a03-5cf9-4713-9a83-052f21403ace",
   "metadata": {},
   "outputs": [
    {
     "name": "stdin",
     "output_type": "stream",
     "text": [
      "enter radius 5\n",
      "enter height 6\n"
     ]
    },
    {
     "name": "stdout",
     "output_type": "stream",
     "text": [
      "471.0\n",
      "18840.0\n"
     ]
    }
   ],
   "source": [
    "#Write a program to find the volume of the cylinder. Also find the cost when ,when the cost of 1litre milk is 40Rs.\n",
    "r=int(input(\"enter radius\"))\n",
    "h=int(input(\"enter height\"))\n",
    "pi=3.14\n",
    "vol=pi*r*r*h\n",
    "print(vol)\n",
    "cost=vol*40\n",
    "print(cost)"
   ]
  },
  {
   "cell_type": "code",
   "execution_count": null,
   "id": "2da40936-e533-472c-8e67-6547fefc0b81",
   "metadata": {},
   "outputs": [],
   "source": []
  }
 ],
 "metadata": {
  "kernelspec": {
   "display_name": "Python 3 (ipykernel)",
   "language": "python",
   "name": "python3"
  },
  "language_info": {
   "codemirror_mode": {
    "name": "ipython",
    "version": 3
   },
   "file_extension": ".py",
   "mimetype": "text/x-python",
   "name": "python",
   "nbconvert_exporter": "python",
   "pygments_lexer": "ipython3",
   "version": "3.12.0"
  }
 },
 "nbformat": 4,
 "nbformat_minor": 5
}
