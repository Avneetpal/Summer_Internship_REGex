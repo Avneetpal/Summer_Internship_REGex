{
 "cells": [
  {
   "cell_type": "code",
   "execution_count": 3,
   "id": "b2b7d614-4f74-4ca0-842c-590feccfefb5",
   "metadata": {},
   "outputs": [
    {
     "data": {
      "text/plain": [
       "5"
      ]
     },
     "execution_count": 3,
     "metadata": {},
     "output_type": "execute_result"
    }
   ],
   "source": [
    "#function\n",
    "#block of code => reuse\n",
    "'''\n",
    "def fucntion_name():\n",
    "    statement\n",
    "'''\n",
    "def sum(a,b):\n",
    "    return(a+b)\n",
    "sum(2,3)"
   ]
  },
  {
   "cell_type": "code",
   "execution_count": 29,
   "id": "47211f80-a5d6-4768-8153-a03e8a66c49e",
   "metadata": {},
   "outputs": [
    {
     "name": "stdout",
     "output_type": "stream",
     "text": [
      "hello\n"
     ]
    }
   ],
   "source": [
    "def msg():\n",
    "    print(\"hello\")\n",
    "\n",
    "msg()"
   ]
  },
  {
   "cell_type": "code",
   "execution_count": 8,
   "id": "1526aba8-a540-4113-ac87-c34b056c3a9f",
   "metadata": {},
   "outputs": [
    {
     "name": "stdout",
     "output_type": "stream",
     "text": [
      "hello avneet\n",
      "hello avneet\n",
      "hello ye \n"
     ]
    }
   ],
   "source": [
    "# a is parameter\n",
    "def msg(a):\n",
    "    print(\"hello\",a)\n",
    "    return \"hello ye \"\n",
    "#avneet is argument\n",
    "msg(\"avneet\")\n",
    "print(msg(\"avneet\"))"
   ]
  },
  {
   "cell_type": "code",
   "execution_count": 17,
   "id": "0a6105ec-8b55-4918-9094-414818047441",
   "metadata": {},
   "outputs": [
    {
     "name": "stdout",
     "output_type": "stream",
     "text": [
      "before func 10\n",
      "after func 10\n"
     ]
    }
   ],
   "source": [
    "def func(x): #int is immutable\n",
    "    x=x+5\n",
    "\n",
    "x=10\n",
    "print(\"before func\",x)\n",
    "func(x)\n",
    "print(\"after func\",x)"
   ]
  },
  {
   "cell_type": "code",
   "execution_count": 18,
   "id": "c3178182-e4ae-4cc6-90f2-1058d7ef3110",
   "metadata": {},
   "outputs": [
    {
     "name": "stdout",
     "output_type": "stream",
     "text": [
      "my list [10, 20] 2379452506048\n",
      "[10, 20] 2379452506048\n",
      "['aman', 20]\n"
     ]
    }
   ],
   "source": [
    "def funce(x):  #list is mutable\n",
    "    print(x,id(x))\n",
    "    x[0]=\"aman\"\n",
    "\n",
    "mylist=[10,20]\n",
    "print(\"my list\",mylist,id(mylist))\n",
    "funce(mylist)\n",
    "print(mylist)"
   ]
  },
  {
   "cell_type": "code",
   "execution_count": 19,
   "id": "ff0e8616-7686-4b0d-bdfb-dd7de4eb12f1",
   "metadata": {},
   "outputs": [
    {
     "name": "stdout",
     "output_type": "stream",
     "text": [
      "excellent\n"
     ]
    }
   ],
   "source": [
    "#create a function with 3 parameters if first is greater then excellent 2 is greater then good if 3 is greate then average\n",
    "def fun(x,y,z):\n",
    "    if(x>y and x>z):\n",
    "        print(\"excellent\")\n",
    "    elif(y>x and y>z):\n",
    "        print(\"good\")\n",
    "    else:\n",
    "        print(\"average\")\n",
    "\n",
    "fun(50,30,20)"
   ]
  },
  {
   "cell_type": "code",
   "execution_count": 28,
   "id": "fddd2041-7288-4113-96e0-a8bb3df21adb",
   "metadata": {},
   "outputs": [
    {
     "name": "stdout",
     "output_type": "stream",
     "text": [
      "lcm 10\n"
     ]
    }
   ],
   "source": [
    "#create a function to return lCM\n",
    "def lcm(x,y):\n",
    "    greatest=0.0\n",
    "    smallest=0.0\n",
    "    if(x>y):\n",
    "        greatest=x\n",
    "        smallest=y\n",
    "    else :\n",
    "        greatest=y\n",
    "        smallest=x\n",
    "    \n",
    "        if(greatest%x==0.0 and greatest%y==0.0):\n",
    "            print(\"lcm\",greatest)\n",
    "            return\n",
    "        else:\n",
    "           return lcm(smallest,greatest+1)\n",
    "lcm(2,9)\n",
    "    "
   ]
  },
  {
   "cell_type": "code",
   "execution_count": 32,
   "id": "e467afb0-5c19-4103-afc4-db53872e057c",
   "metadata": {},
   "outputs": [
    {
     "name": "stdout",
     "output_type": "stream",
     "text": [
      "lcm 10\n"
     ]
    }
   ],
   "source": [
    "def lcm2(x,y):\n",
    "    if(x>y):\n",
    "        great=x\n",
    "    else:\n",
    "        great=y\n",
    "    while(True):\n",
    "        if(great%x==0 and great%y==0):\n",
    "            print(great)\n",
    "        else:\n",
    "             great+=1\n",
    "lcm(2,9)"
   ]
  },
  {
   "cell_type": "code",
   "execution_count": 10,
   "id": "b554d2a3-eb1d-4428-bd4f-acb38cffeac4",
   "metadata": {},
   "outputs": [
    {
     "name": "stdout",
     "output_type": "stream",
     "text": [
      "lcm 18\n"
     ]
    }
   ],
   "source": [
    "#create a function to return lCM\n",
    "def lcm(x,y):\n",
    "    greatest=0.0\n",
    "    smallest=0.0\n",
    "    if(x>y):\n",
    "        greatest=x\n",
    "        smallest=y\n",
    "    else :\n",
    "        greatest=y\n",
    "        smallest=x\n",
    "    while(True):\n",
    "        if(greatest%x==0 and greatest%y==0):\n",
    "#             print(greatest%y)\n",
    "            print(\"lcm\",greatest)\n",
    "            return\n",
    "        else:\n",
    "            greatest+=1\n",
    "lcm(2,9)"
   ]
  },
  {
   "cell_type": "code",
   "execution_count": 27,
   "id": "10250be7-cf4a-4b0d-a1c6-1ce5c6fa2ffb",
   "metadata": {},
   "outputs": [
    {
     "name": "stdout",
     "output_type": "stream",
     "text": [
      "eid is :90\n",
      " Ename isnaina \n",
      " Email is naina@\n"
     ]
    }
   ],
   "source": [
    "#positional argument\n",
    "def emlpoyee(eid,ename, email):\n",
    "    print(f\"eid is :{eid}\\n Ename is{ename} \\n Email is {email}\")\n",
    "\n",
    "    \n",
    "emlpoyee(90,\"naina\",\"naina@\")"
   ]
  },
  {
   "cell_type": "code",
   "execution_count": 42,
   "id": "5b04a691-87d1-4665-b00c-0ca30bdebaed",
   "metadata": {},
   "outputs": [
    {
     "name": "stdout",
     "output_type": "stream",
     "text": [
      "eid is :90\n",
      " Ename isnaina \n",
      " Email is naina@\n"
     ]
    }
   ],
   "source": [
    "# keyword argument\n",
    "emlpoyee(ename=\"naina\",email=\"naina@\",eid=90)"
   ]
  },
  {
   "cell_type": "code",
   "execution_count": 47,
   "id": "7e766f0c-c2ee-475b-91b5-0351eb82191e",
   "metadata": {},
   "outputs": [
    {
     "name": "stdout",
     "output_type": "stream",
     "text": [
      "eid is :90\n",
      " Ename isnaina \n",
      " Email is regex@\n"
     ]
    }
   ],
   "source": [
    "#default argiument\n",
    "\n",
    "def emlpoyee(eid,ename, email=\"regex@\"):\n",
    "    print(f\"eid is :{eid}\\n Ename is{ename} \\n Email is {email}\")\n",
    "\n",
    "emlpoyee(ename=\"naina\",eid=90)\n"
   ]
  },
  {
   "cell_type": "code",
   "execution_count": 13,
   "id": "f4587d10-892d-40d1-806e-25606cc298a1",
   "metadata": {},
   "outputs": [
    {
     "name": "stdout",
     "output_type": "stream",
     "text": [
      "() <class 'tuple'>\n",
      "('avneet', 'regex', 100) <class 'tuple'>\n",
      "('amazon', 'avneet') <class 'tuple'>\n"
     ]
    }
   ],
   "source": [
    "#variable length argument\n",
    "#also know as \"args\"\n",
    "def facebook(*data):\n",
    "    print(data, type(data))\n",
    "\n",
    "facebook()\n",
    "facebook(\"avneet\", \"regex\",100)\n",
    "facebook(\"amazon\",\"avneet\")\n"
   ]
  },
  {
   "cell_type": "code",
   "execution_count": 12,
   "id": "46844cdf-eb3c-4c8f-b1b3-3f5ec84cf188",
   "metadata": {},
   "outputs": [
    {
     "name": "stdout",
     "output_type": "stream",
     "text": [
      "{'username': 'avneet', 'salary': 1000} <class 'dict'>\n",
      "{'salary': 133} <class 'dict'>\n"
     ]
    }
   ],
   "source": [
    "#keyword variable length argument\n",
    "#also known as \"kwargs\"\n",
    "def facebook(**data):\n",
    "    print(data,type(data))\n",
    "\n",
    "facebook(username=\"avneet\",salary=1000)\n",
    "facebook(salary=133)"
   ]
  },
  {
   "cell_type": "code",
   "execution_count": 17,
   "id": "817c0d46-23a7-472f-a701-1fcddf09d80c",
   "metadata": {},
   "outputs": [
    {
     "name": "stdout",
     "output_type": "stream",
     "text": [
      "<function func at 0x000002CA0E37E8E0>\n",
      "hello\n"
     ]
    }
   ],
   "source": [
    "def func():\n",
    "    print(\"hello\")\n",
    "x=func\n",
    "print(x)\n",
    "x()"
   ]
  },
  {
   "cell_type": "code",
   "execution_count": 26,
   "id": "f0ef781f-2f41-4974-acc3-da9ec277f612",
   "metadata": {},
   "outputs": [
    {
     "name": "stdout",
     "output_type": "stream",
     "text": [
      "10 9\n"
     ]
    }
   ],
   "source": [
    "#high order function\n",
    "#whict takes another fucntion as arguments\n",
    "def square(x):\n",
    "    return (x*x)\n",
    "def addno(x,fun):\n",
    "    print(x,fun(3))\n",
    "addno(10,square)"
   ]
  },
  {
   "cell_type": "code",
   "execution_count": 30,
   "id": "2fbd6f07-bdc0-411a-936c-66ade45cf050",
   "metadata": {},
   "outputs": [
    {
     "name": "stdout",
     "output_type": "stream",
     "text": [
      "['apple', 'banana', 'mango']\n"
     ]
    }
   ],
   "source": [
    "#list comprehension \n",
    "fruits = [\"apple\", \"banana\", \"cherry\", \"kiwi\", \"mango\"]\n",
    "newlist = []\n",
    "\n",
    "for x in fruits:\n",
    "  if \"a\" in x:\n",
    "    newlist.append(x)\n",
    "\n",
    "print(newlist)\n"
   ]
  },
  {
   "cell_type": "code",
   "execution_count": 31,
   "id": "a140df39-7454-4188-a2cb-8bf2f678ebfb",
   "metadata": {},
   "outputs": [
    {
     "name": "stdout",
     "output_type": "stream",
     "text": [
      "['apple', 'banana', 'mango']\n"
     ]
    }
   ],
   "source": [
    "fruits = [\"apple\", \"banana\", \"cherry\", \"kiwi\", \"mango\"]\n",
    "newlist = [x for x in fruits if \"a\" in x]\n",
    "\n",
    "print(newlist)\n"
   ]
  },
  {
   "cell_type": "code",
   "execution_count": null,
   "id": "3b57d282-7c4a-4d3a-a109-73b7590c616f",
   "metadata": {},
   "outputs": [],
   "source": []
  }
 ],
 "metadata": {
  "kernelspec": {
   "display_name": "Python 3 (ipykernel)",
   "language": "python",
   "name": "python3"
  },
  "language_info": {
   "codemirror_mode": {
    "name": "ipython",
    "version": 3
   },
   "file_extension": ".py",
   "mimetype": "text/x-python",
   "name": "python",
   "nbconvert_exporter": "python",
   "pygments_lexer": "ipython3",
   "version": "3.12.0"
  }
 },
 "nbformat": 4,
 "nbformat_minor": 5
}
