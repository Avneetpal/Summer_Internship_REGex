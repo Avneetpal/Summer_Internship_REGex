{
 "cells": [
  {
   "cell_type": "code",
   "execution_count": 5,
   "id": "7171d218-e18b-4d27-88d0-1dfbbc653066",
   "metadata": {},
   "outputs": [
    {
     "data": {
      "text/plain": [
       "<function __main__.<lambda>(x)>"
      ]
     },
     "execution_count": 5,
     "metadata": {},
     "output_type": "execute_result"
    }
   ],
   "source": [
    "#lambda function\n",
    "#annoymous function\n",
    "#name(gumname)\n",
    "#lambda se start\n",
    "#lambda\n",
    "'''\n",
    "def func(x):\n",
    "    return x+10\n",
    "'''\n",
    "lambda x:x+10\n",
    "\n"
   ]
  },
  {
   "cell_type": "code",
   "execution_count": 3,
   "id": "1467e3c7-9b81-49df-8e4e-35726fd4f8ff",
   "metadata": {},
   "outputs": [
    {
     "data": {
      "text/plain": [
       "15"
      ]
     },
     "execution_count": 3,
     "metadata": {},
     "output_type": "execute_result"
    }
   ],
   "source": [
    "y=lambda x:x+10\n",
    "y(5)\n"
   ]
  },
  {
   "cell_type": "code",
   "execution_count": 11,
   "id": "fbbb7805-738c-407e-9c7b-f2d919623ccb",
   "metadata": {},
   "outputs": [
    {
     "data": {
      "text/plain": [
       "[100, 400, 900, 1600]"
      ]
     },
     "execution_count": 11,
     "metadata": {},
     "output_type": "execute_result"
    }
   ],
   "source": [
    "#high order function\n",
    "# map , filter , reduce\n",
    "#map(function,iterable)\n",
    "def square(x):\n",
    "    return x*x\n",
    "mylist=[10,20,30,40]\n",
    "list(map(square,mylist))"
   ]
  },
  {
   "cell_type": "code",
   "execution_count": 13,
   "id": "021bdbff-a3a7-4910-89b8-a0476fc25669",
   "metadata": {},
   "outputs": [
    {
     "data": {
      "text/plain": [
       "[100, 48400, 90000]"
      ]
     },
     "execution_count": 13,
     "metadata": {},
     "output_type": "execute_result"
    }
   ],
   "source": [
    "mylist=[10,220,300]\n",
    "list(map(lambda x:x*x,mylist))"
   ]
  },
  {
   "cell_type": "code",
   "execution_count": 18,
   "id": "fb250735-231f-4d0e-8649-b952a3f50990",
   "metadata": {},
   "outputs": [
    {
     "data": {
      "text/plain": [
       "[11]"
      ]
     },
     "execution_count": 18,
     "metadata": {},
     "output_type": "execute_result"
    }
   ],
   "source": [
    "#filter\n",
    "mylist=[10,20,30,40,50,11]\n",
    "list(filter(lambda x:x%2!=0,mylist))"
   ]
  },
  {
   "cell_type": "code",
   "execution_count": 31,
   "id": "9ec011c7-4b2e-47c0-b4bc-39ccc9945119",
   "metadata": {},
   "outputs": [],
   "source": [
    "#file handling\n",
    "# open \n",
    "#read/write\n",
    "#close\n",
    "\n",
    "#r=>read\n",
    "fileobject=open(\"regex.txt\",\"r\")\n",
    "x=fileobject.read()\n",
    "fileobject.close()"
   ]
  },
  {
   "cell_type": "code",
   "execution_count": 25,
   "id": "66ae078f-6522-4ffa-b89e-ffaae169d7ca",
   "metadata": {},
   "outputs": [
    {
     "name": "stdout",
     "output_type": "stream",
     "text": [
      "hii avneet    \n"
     ]
    }
   ],
   "source": [
    "print(x)"
   ]
  },
  {
   "cell_type": "code",
   "execution_count": 74,
   "id": "819b872b-002c-423a-808a-23ce04a6e1dd",
   "metadata": {},
   "outputs": [],
   "source": [
    "#r+ =>read and write both but previos content is not removed\n",
    "fileobject=open(\"regex.txt\",\"r+\")\n",
    "x=fileobject.read()\n",
    "fileobject.write(\" new\")\n",
    "\n",
    "fileobject.close()"
   ]
  },
  {
   "cell_type": "code",
   "execution_count": 39,
   "id": "e91a4346-380b-4970-88ee-8835452f5f6a",
   "metadata": {},
   "outputs": [
    {
     "name": "stdout",
     "output_type": "stream",
     "text": [
      "0\n",
      "after write 6\n",
      "neet\n"
     ]
    }
   ],
   "source": [
    "# w=> write mode old content is removed\n",
    "fileobj=open(\"regex.txt\",\"w+\")\n",
    "print(fileobj.tell()) #tell gives the position of cursor\n",
    "x=fileobj.read()\n",
    "fileobj.write(\"avneet\")\n",
    "print(\"after write\",fileobj.tell())\n",
    "fileobj.seek(2) #seek() changes the position of cursor\n",
    "x=fileobj.read()\n",
    "print(x)\n",
    "fileobj.close()"
   ]
  },
  {
   "cell_type": "code",
   "execution_count": 40,
   "id": "a6ed1803-092c-4c9e-84df-619b579ce10e",
   "metadata": {},
   "outputs": [
    {
     "name": "stdout",
     "output_type": "stream",
     "text": [
      "avneet\n"
     ]
    }
   ],
   "source": [
    "#using  with keyword\n",
    "with open(\"regex.txt\",\"r\") as fileobj:\n",
    "    x=fileobj.read()\n",
    "    print(x)"
   ]
  },
  {
   "cell_type": "code",
   "execution_count": 52,
   "id": "110cdae3-253a-45d4-9e31-e23f24be3830",
   "metadata": {},
   "outputs": [
    {
     "name": "stdout",
     "output_type": "stream",
     "text": [
      "1, avneet,100\n",
      "2,aa,300\n",
      "3,rr,433\n",
      "4,re,44\n",
      "\n"
     ]
    }
   ],
   "source": [
    "with open(\"regex.txt\",\"r\") as fileobj:\n",
    "   for line in fileobj.readlines(): # readlines used to read lines \n",
    "       print(line.strip()) #strip remove extra blank space and blank lines\n",
    "    "
   ]
  },
  {
   "cell_type": "code",
   "execution_count": 66,
   "id": "84d3816c-0480-4dff-b87f-99be5c440ab8",
   "metadata": {},
   "outputs": [
    {
     "name": "stdout",
     "output_type": "stream",
     "text": [
      "['1', ' avneet', '100\\n']\n",
      "['2', 'aa', '300\\n']\n",
      "['3', 'rr', '433\\n']\n",
      "['4', 're', '44\\n']\n",
      "['\\n']\n"
     ]
    }
   ],
   "source": [
    "\n",
    "with open(\"regex.txt\",\"r\") as fileobj:\n",
    "    for line in fileobj.readlines():\n",
    "        print(line.split(','))"
   ]
  },
  {
   "cell_type": "code",
   "execution_count": 71,
   "id": "3538095a-1240-4051-b2a3-6d14eb63e606",
   "metadata": {},
   "outputs": [
    {
     "name": "stdout",
     "output_type": "stream",
     "text": [
      "1  avneet\n",
      "2 aa\n",
      "3 rr\n",
      "4 re\n"
     ]
    }
   ],
   "source": [
    "import csv\n",
    "fileo=open(\"regex.txt\")\n",
    "f=csv.reader(fileo)\n",
    "for i in f:\n",
    "    #print(i)\n",
    "    id,name,salary=i\n",
    "    print(id,name)\n",
    "    "
   ]
  },
  {
   "cell_type": "code",
   "execution_count": 75,
   "id": "23aca21a-9f73-44f8-8cae-6dd2325c8aab",
   "metadata": {},
   "outputs": [
    {
     "name": "stdout",
     "output_type": "stream",
     "text": [
      "hello\n",
      "error handling\n"
     ]
    }
   ],
   "source": [
    "#exception handling\n",
    "#try except\n",
    "try:\n",
    "    print(\"hello\")\n",
    "    x=10\n",
    "    x/num\n",
    "    print(\"hey\")\n",
    "except:\n",
    "    print(\"error handling\")\n"
   ]
  },
  {
   "cell_type": "code",
   "execution_count": 82,
   "id": "cd92aa88-aae0-4497-ba11-339ad18dd9c9",
   "metadata": {},
   "outputs": [
    {
     "name": "stdout",
     "output_type": "stream",
     "text": [
      "hello\n",
      "error handling name 'num' is not defined\n"
     ]
    }
   ],
   "source": [
    "try:\n",
    "    print(\"hello\")\n",
    "    x=10\n",
    " #   x/0\n",
    "    x/num\n",
    "    print(\"hey\")\n",
    "except (ZeroDivisionError,NameError)  as z:\n",
    "    print(\"error handling\",z)"
   ]
  },
  {
   "cell_type": "code",
   "execution_count": 87,
   "id": "13eeb38e-adb6-40f1-b03d-58520ed462a2",
   "metadata": {},
   "outputs": [
    {
     "name": "stdout",
     "output_type": "stream",
     "text": [
      "hello\n",
      "string index out of range error occured\n"
     ]
    }
   ],
   "source": [
    "try:\n",
    "    print(\"hello\")\n",
    "    x=\"avneet\"\n",
    "    \n",
    "\n",
    "    x[10]\n",
    "    print(\"hey\")\n",
    "except (ZeroDivisionError,NameError)  as z:\n",
    "    print(\"error handling\",z)\n",
    "except Exception as e:\n",
    "    print(e,\"error occured\")"
   ]
  },
  {
   "cell_type": "code",
   "execution_count": 88,
   "id": "9aaf0be3-189b-44b1-ac44-1a7e3544f318",
   "metadata": {},
   "outputs": [
    {
     "name": "stdout",
     "output_type": "stream",
     "text": [
      "hello\n",
      "dividing by num\n",
      "hey\n"
     ]
    }
   ],
   "source": [
    "try:\n",
    "    print(\"hello\")\n",
    "    x=10\n",
    "    try:\n",
    "        x/num\n",
    "    except:\n",
    "        print(\"dividing by num\")\n",
    "    print(\"hey\")\n",
    "except:\n",
    "    print(\"error handling\")"
   ]
  },
  {
   "cell_type": "code",
   "execution_count": 89,
   "id": "183fb09c-8f5e-4352-b181-008402203672",
   "metadata": {},
   "outputs": [
    {
     "name": "stdout",
     "output_type": "stream",
     "text": [
      "hello\n",
      "hey\n",
      "try mai error nhi hai\n"
     ]
    }
   ],
   "source": [
    "try:\n",
    "    print(\"hello\")\n",
    "    x=10\n",
    " #   x/0\n",
    "    x/20\n",
    "    print(\"hey\")\n",
    "except (ZeroDivisionError,NameError)  as z:\n",
    "    print(\"error handling\",z)\n",
    "else:\n",
    "    print(\"try mai error nhi hai\")"
   ]
  },
  {
   "cell_type": "code",
   "execution_count": 91,
   "id": "3fa2ac62-5a4f-49b3-8bac-a6b2db556455",
   "metadata": {},
   "outputs": [
    {
     "name": "stdout",
     "output_type": "stream",
     "text": [
      "hello\n",
      "hey\n",
      "try mai error nhi hai, error naa ho to chalega\n",
      "run in every conditon either error is presnt or not\n"
     ]
    }
   ],
   "source": [
    "try:\n",
    "    print(\"hello\")\n",
    "    x=10\n",
    " #   x/0\n",
    "    x/20\n",
    "    print(\"hey\")\n",
    "except (ZeroDivisionError,NameError)  as z:\n",
    "    print(\"error handling\",z)\n",
    "else:\n",
    "    print(\"try mai error nhi hai, error naa ho to chalega\")\n",
    "finally:\n",
    "    print(\"run in every conditon either error is presnt or not\")"
   ]
  },
  {
   "cell_type": "code",
   "execution_count": null,
   "id": "e9046a34-f4d2-452c-9c4d-02a977564564",
   "metadata": {},
   "outputs": [],
   "source": [
    "#Assignment\n",
    "#que1\n",
    "#using browser open instagram, create account\n",
    "#que 2\n",
    "#create a function which take no from user and once a no is provided we have to drop same no of msg to your friend in whatsapp\n",
    "#que 3\n"
   ]
  }
 ],
 "metadata": {
  "kernelspec": {
   "display_name": "Python 3 (ipykernel)",
   "language": "python",
   "name": "python3"
  },
  "language_info": {
   "codemirror_mode": {
    "name": "ipython",
    "version": 3
   },
   "file_extension": ".py",
   "mimetype": "text/x-python",
   "name": "python",
   "nbconvert_exporter": "python",
   "pygments_lexer": "ipython3",
   "version": "3.12.0"
  }
 },
 "nbformat": 4,
 "nbformat_minor": 5
}
