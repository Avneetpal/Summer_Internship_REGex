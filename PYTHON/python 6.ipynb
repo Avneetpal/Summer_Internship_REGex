{
 "cells": [
  {
   "cell_type": "code",
   "execution_count": 18,
   "id": "fa4810d4-cd33-401d-a973-04038536929c",
   "metadata": {},
   "outputs": [],
   "source": [
    "#class and object\n",
    "#object=real world entity\n",
    "#class is blueprint of object\n",
    "class house:\n",
    "    color=\"yello\"\n",
    "    room= 5\n",
    "    def info(self):\n",
    "        print(\"house has \",self.color,self.room)\n",
    "    "
   ]
  },
  {
   "cell_type": "code",
   "execution_count": 12,
   "id": "b41dd6db-4511-45ff-a0e9-d0a96db646fa",
   "metadata": {},
   "outputs": [
    {
     "name": "stdout",
     "output_type": "stream",
     "text": [
      "yello 5\n"
     ]
    }
   ],
   "source": [
    "#object h1\n",
    "h1=house()\n",
    "print(h1.color,h1.room)\n"
   ]
  },
  {
   "cell_type": "code",
   "execution_count": 13,
   "id": "de89ed37-9b72-4259-8079-820211025da4",
   "metadata": {},
   "outputs": [
    {
     "name": "stdout",
     "output_type": "stream",
     "text": [
      "10\n"
     ]
    }
   ],
   "source": [
    "h2=house()\n",
    "h2.room=10\n",
    "print(h2.room)"
   ]
  },
  {
   "cell_type": "code",
   "execution_count": 23,
   "id": "f8851336-3dca-471e-b657-808c651baa96",
   "metadata": {},
   "outputs": [
    {
     "name": "stdout",
     "output_type": "stream",
     "text": [
      "house has  yello 5\n",
      "house has  yello 10\n"
     ]
    }
   ],
   "source": [
    "h1=house()\n",
    "h1.info()\n",
    "h2=house()\n",
    "h2.room=10\n",
    "h2.info()\n",
    "\n"
   ]
  },
  {
   "cell_type": "code",
   "execution_count": 74,
   "id": "4fb8cd68-7858-4fa4-bc4a-2d9e1c3913ab",
   "metadata": {},
   "outputs": [
    {
     "name": "stdout",
     "output_type": "stream",
     "text": [
      "hello abc <__main__.house object at 0x0000023BDC7B74D0>\n",
      "<__main__.house object at 0x0000023BDC7B74D0>\n"
     ]
    }
   ],
   "source": [
    "#constructor\n",
    "#object=> memory assign karwate hai\n",
    "#object variable=> initilize\n",
    "class house:\n",
    "    def __init__(self): #constructor  #self mai current object ka memory address jata hai\n",
    "        print(\"hello abc\",self)\n",
    "\n",
    "h1=house()\n",
    "print(h1)"
   ]
  },
  {
   "cell_type": "code",
   "execution_count": 31,
   "id": "c459fe57-f344-48d8-bd07-64f92cdecfb2",
   "metadata": {},
   "outputs": [
    {
     "name": "stdout",
     "output_type": "stream",
     "text": [
      "hello abc <__main__.house object at 0x0000023BDC7B6F30>\n",
      "<__main__.house object at 0x0000023BDC7B6F30>\n"
     ]
    }
   ],
   "source": [
    "h2=house()\n",
    "print(h2)"
   ]
  },
  {
   "cell_type": "code",
   "execution_count": 34,
   "id": "1a7f0321-7fa1-42ba-85e7-13e8a83abff5",
   "metadata": {},
   "outputs": [
    {
     "name": "stdout",
     "output_type": "stream",
     "text": [
      "hello abc yellow\n",
      "hello abc green\n"
     ]
    }
   ],
   "source": [
    "class house:\n",
    "    def __init__(self,color): \n",
    "        print(\"hello abc\",color)\n",
    "h1=house(\"yellow\")\n",
    "h2=house(\"green\")"
   ]
  },
  {
   "cell_type": "code",
   "execution_count": 37,
   "id": "93bcc1b7-daaa-4d8a-9f36-581e0c93a6f2",
   "metadata": {},
   "outputs": [
    {
     "name": "stdout",
     "output_type": "stream",
     "text": [
      "hello abc yellow\n",
      "hello abc green\n",
      "yellow\n"
     ]
    }
   ],
   "source": [
    "class house:\n",
    "    def __init__(self,color):\n",
    "        self.hcolor=color\n",
    "        print(\"hello abc\",color)\n",
    "h1=house(\"yellow\")\n",
    "h2=house(\"green\")\n",
    "print(h1.hcolor)"
   ]
  },
  {
   "cell_type": "code",
   "execution_count": 40,
   "id": "a49a3885-a1c0-450b-a686-4fa6569ae8ff",
   "metadata": {},
   "outputs": [
    {
     "name": "stdout",
     "output_type": "stream",
     "text": [
      "hello abc yellow\n",
      "hello abc green\n",
      "yellow 5\n"
     ]
    }
   ],
   "source": [
    "class house:\n",
    "    def __init__(self,color,room):\n",
    "        self.hcolor=color\n",
    "        self.hroom=room\n",
    "        print(\"hello abc\",color)\n",
    "h1=house(\"yellow\",5)\n",
    "h2=house(\"green\",6)\n",
    "print(h1.hcolor,h1.hroom)"
   ]
  },
  {
   "cell_type": "code",
   "execution_count": 42,
   "id": "62087c78-b50f-428b-9b21-e3097640289a",
   "metadata": {},
   "outputs": [
    {
     "name": "stdout",
     "output_type": "stream",
     "text": [
      "color=red and room=9\n"
     ]
    }
   ],
   "source": [
    "class house:\n",
    "    def __init__(self,color,room):\n",
    "        self.hcolor=color\n",
    "        self.hroom=room\n",
    "        #print(\"hello abc\",color)\n",
    "    def info(self):\n",
    "        print(f\"color={self.hcolor} and room={self.hroom}\")\n",
    "h1=house(\"red\",9)\n",
    "h1.info()\n",
    "    \n",
    "    "
   ]
  },
  {
   "cell_type": "code",
   "execution_count": 46,
   "id": "33cf9662-e30d-4e38-ad95-0815409be4a4",
   "metadata": {},
   "outputs": [
    {
     "name": "stdout",
     "output_type": "stream",
     "text": [
      "name=avneet , domain name=gmail.com and salary=22200\n"
     ]
    }
   ],
   "source": [
    "#class employee\n",
    "#eid ename email company salary => instance variable\n",
    "#also create a function whic print name , domain name and the monthly salary\n",
    "class employee:\n",
    "    def __init__(self,eid,ename,company,email,salary):\n",
    "        self.eid=eid\n",
    "        self.ename=ename\n",
    "        self.email=email\n",
    "        self.company=company\n",
    "        self.salary=salary\n",
    "    def info(self):\n",
    "        \n",
    "        print(f\"name={self.ename} , domain name={self.email.split(\"@\")[-1]} and salary={self.salary}\")\n",
    "\n",
    "e1=employee(1,\"avneet\",\"kuchbhu\",\"avneet@gmail.com\",22200)\n",
    "e1.info()\n",
    "    "
   ]
  },
  {
   "cell_type": "code",
   "execution_count": 53,
   "id": "484ce5ab-afb8-4192-8b3d-a32a4e9c3932",
   "metadata": {},
   "outputs": [
    {
     "name": "stdout",
     "output_type": "stream",
     "text": [
      "10000\n"
     ]
    },
    {
     "data": {
      "text/plain": [
       "50"
      ]
     },
     "execution_count": 53,
     "metadata": {},
     "output_type": "execute_result"
    }
   ],
   "source": [
    "#Inheritence\n",
    "#already definde chizo ko dusri class mai use karte hai\n",
    "#parent/base /super class \n",
    "#child class/ derived class / sub class\n",
    "class family:\n",
    "    amount=10000\n",
    "class children(family):\n",
    "    pocketmoney=50\n",
    "    print(family().amount)\n",
    "\n",
    "c1=children()\n",
    "c1.pocketmoney"
   ]
  },
  {
   "cell_type": "code",
   "execution_count": 66,
   "id": "60b747af-f314-4e8d-b9e8-1553b7d04354",
   "metadata": {},
   "outputs": [
    {
     "name": "stdout",
     "output_type": "stream",
     "text": [
      "99 naina naina@gmial.com\n",
      "99 naina naina@gmial.com\n"
     ]
    }
   ],
   "source": [
    "class driver:\n",
    "    def __init__(self,ids,name,email):\n",
    "        self.ids=ids\n",
    "        self.name=name\n",
    "        self.email=email\n",
    "    def info(self):\n",
    "            print(self.ids,self.name,self.email)\n",
    "        \n",
    "class customer(driver):\n",
    "    def __init__(self,cids,cname,cemail):\n",
    "        super().__init__(cids,cname,cemail)\n",
    "    def cinfo(self):\n",
    "        super().info()\n",
    "\n",
    "c1=customer(99,\"naina\",\"naina@gmial.com\")\n",
    "c1.info()\n",
    "c1.cinfo()\n",
    "        "
   ]
  },
  {
   "cell_type": "code",
   "execution_count": 73,
   "id": "eb64399f-0b9e-41a3-8cec-eb9ca60f09ba",
   "metadata": {},
   "outputs": [
    {
     "name": "stdout",
     "output_type": "stream",
     "text": [
      "grand father\n"
     ]
    }
   ],
   "source": [
    "#grandfather father and child\n",
    "#multilevel inheritance\n",
    "class grandfather:\n",
    "    def grand(self):\n",
    "        print(\"grand father\")\n",
    "\n",
    "class father(grandfather):\n",
    "    def fath(self):\n",
    "        print(\"father\")\n",
    "\n",
    "class child(father):\n",
    "    def ch(self):\n",
    "        print(\"child\")\n",
    "\n",
    "c1=child()\n",
    "c1.grand()"
   ]
  },
  {
   "cell_type": "code",
   "execution_count": 72,
   "id": "73ddf0e5-1370-4e4f-aad3-0534bfb74e72",
   "metadata": {},
   "outputs": [
    {
     "name": "stdout",
     "output_type": "stream",
     "text": [
      "first class\n",
      "second class\n"
     ]
    }
   ],
   "source": [
    "#multiple inheritance\n",
    "class one:\n",
    "    def o(self):\n",
    "        print(\"first class\")\n",
    "\n",
    "class two:\n",
    "    def tw(self):\n",
    "        print(\"second class\")\n",
    "\n",
    "class three(one, two):\n",
    "    def three(self):\n",
    "        print(\"third class\")\n",
    "\n",
    "c1=three()\n",
    "c1.o()\n",
    "c1.tw()"
   ]
  },
  {
   "cell_type": "code",
   "execution_count": null,
   "id": "9d8cb2bf-9bc6-4993-8261-46dba4beef13",
   "metadata": {},
   "outputs": [],
   "source": [
    "# what is MRO( method resolution order)\n"
   ]
  }
 ],
 "metadata": {
  "kernelspec": {
   "display_name": "Python 3 (ipykernel)",
   "language": "python",
   "name": "python3"
  },
  "language_info": {
   "codemirror_mode": {
    "name": "ipython",
    "version": 3
   },
   "file_extension": ".py",
   "mimetype": "text/x-python",
   "name": "python",
   "nbconvert_exporter": "python",
   "pygments_lexer": "ipython3",
   "version": "3.12.0"
  }
 },
 "nbformat": 4,
 "nbformat_minor": 5
}
