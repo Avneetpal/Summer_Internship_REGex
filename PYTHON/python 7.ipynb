{
 "cells": [
  {
   "cell_type": "markdown",
   "id": "4792b6f2-ed4a-410a-acb9-f3ffd7e37522",
   "metadata": {},
   "source": [
    "# polymorphism"
   ]
  },
  {
   "cell_type": "code",
   "execution_count": 1,
   "id": "cdf01a39-4630-4eb4-ba2e-0c3a16953d24",
   "metadata": {},
   "outputs": [],
   "source": [
    "#many forms\n",
    "#variable,operator,object"
   ]
  },
  {
   "cell_type": "code",
   "execution_count": 31,
   "id": "401f5631-733b-40f8-9e39-b03ac0c5f264",
   "metadata": {},
   "outputs": [
    {
     "name": "stdout",
     "output_type": "stream",
     "text": [
      " this is second  vehicle class\n"
     ]
    }
   ],
   "source": [
    "class vehicle: #python not support method oveloading\n",
    "    def info(self):\n",
    "        print(\" this is vehicle class\")\n",
    "    def info(self,x):\n",
    "        print(\" this is second  vehicle class\")\n",
    "c1=vehicle()\n",
    "c1.info(100)"
   ]
  },
  {
   "cell_type": "code",
   "execution_count": 14,
   "id": "d2ce2364-40c7-4903-9da5-ec3946bd6fd8",
   "metadata": {},
   "outputs": [
    {
     "data": {
      "text/plain": [
       "employee class has value 10"
      ]
     },
     "execution_count": 14,
     "metadata": {},
     "output_type": "execute_result"
    }
   ],
   "source": [
    "# repr change the representation of class\n",
    "class employee:\n",
    "    def __init__(self,num1):\n",
    "        self.num1=num1\n",
    "    def __repr__(self):\n",
    "        return f\"employee class has value {self.num1}\"\n",
    "employee(10)"
   ]
  },
  {
   "cell_type": "code",
   "execution_count": 18,
   "id": "2b7f4060-6088-44ab-b1c9-b8cdc868d9fb",
   "metadata": {},
   "outputs": [
    {
     "data": {
      "text/plain": [
       "'hello'"
      ]
     },
     "execution_count": 18,
     "metadata": {},
     "output_type": "execute_result"
    }
   ],
   "source": [
    "class employee:\n",
    "    def __init__(self,num1):\n",
    "        self.num1=num1\n",
    "    def __repr__(self):\n",
    "        return f\"employee class has value {self.num1}\"\n",
    "    def __add__(x,y):\n",
    "        return \"hello\"\n",
    "e1=employee(10)\n",
    "e2=employee(100)\n",
    "#from add functio\n",
    "e1+e2\n",
    "# + ==> __add__"
   ]
  },
  {
   "cell_type": "code",
   "execution_count": 29,
   "id": "3ce260df-6e27-49f3-b70f-15c1035f1374",
   "metadata": {},
   "outputs": [
    {
     "data": {
      "text/plain": [
       "False"
      ]
     },
     "execution_count": 29,
     "metadata": {},
     "output_type": "execute_result"
    }
   ],
   "source": [
    "#create two class object and declare 2 instance\n",
    "#obj1>obj2(true yh false)\n",
    "class new:\n",
    "    def __init__(self,var1,var2):\n",
    "        self.var1=var1\n",
    "        self.var2=var2\n",
    "    def __gt__(self,obj2):\n",
    "        if(self.var1+self.var2 > obj2.var1):\n",
    "            return False\n",
    "        else :\n",
    "            return True\n",
    "e1=new(10,20)\n",
    "e2=new(3,4)\n",
    "e1>e2\n",
    "     \n",
    "        \n"
   ]
  },
  {
   "cell_type": "code",
   "execution_count": 26,
   "id": "63508e6c-03af-45f9-a52c-6fe896f9ce3d",
   "metadata": {},
   "outputs": [
    {
     "data": {
      "text/plain": [
       "100"
      ]
     },
     "execution_count": 26,
     "metadata": {},
     "output_type": "execute_result"
    }
   ],
   "source": [
    "# protected _\n",
    "class parent:\n",
    "    _amount=100\n",
    "p1=parent()\n",
    "p1._amount"
   ]
  },
  {
   "cell_type": "code",
   "execution_count": 28,
   "id": "56e23e5c-98bd-4a21-9691-1bb07b3ff240",
   "metadata": {},
   "outputs": [
    {
     "data": {
      "text/plain": [
       "100"
      ]
     },
     "execution_count": 28,
     "metadata": {},
     "output_type": "execute_result"
    }
   ],
   "source": [
    "#private __\n",
    "# __xyz==> _class_xyz\n",
    "class parent:\n",
    "    __amount=100\n",
    "p1=parent()\n",
    "p1._parent__amount"
   ]
  }
 ],
 "metadata": {
  "kernelspec": {
   "display_name": "Python 3 (ipykernel)",
   "language": "python",
   "name": "python3"
  },
  "language_info": {
   "codemirror_mode": {
    "name": "ipython",
    "version": 3
   },
   "file_extension": ".py",
   "mimetype": "text/x-python",
   "name": "python",
   "nbconvert_exporter": "python",
   "pygments_lexer": "ipython3",
   "version": "3.12.0"
  }
 },
 "nbformat": 4,
 "nbformat_minor": 5
}
