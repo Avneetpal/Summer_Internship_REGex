{
 "cells": [
  {
   "cell_type": "code",
   "execution_count": null,
   "id": "ae076746-7a56-492c-81a7-edcf6c040cca",
   "metadata": {},
   "outputs": [],
   "source": [
    "''' que1) user input on no. of unit in int\n",
    "        -for starting 10 unit 50 rs each\n",
    "        -for next 20 unit price will be 20 rs each\n",
    "        -and for rest of units price will be 10 rs\n",
    "        calculate total price\n",
    " que 2) take 3 no as input from user as 3 sides of triangle and check whether it creates triangle or not\n",
    " que 3) take 2 no from user and check whether both are divible by 6 or not\n",
    "         (divisibility ruel should be dividsible by 2 and 3)\n",
    "'''"
   ]
  },
  {
   "cell_type": "code",
   "execution_count": null,
   "id": "63d4ccfa-c4f9-4866-8fc4-2760cac4afb9",
   "metadata": {},
   "outputs": [],
   "source": [
    "#if a user given input 1 then print date\n",
    "#if input 2 create a folder at dektop and user will give folder name\n",
    "#if input 3 create a file at dektop\n",
    "#if input 4 shutdown\n",
    "\n",
    "import os\n",
    "import datetime\n",
    "\n",
    "def print_current_datetime():\n",
    "    current_datetime = datetime.datetime.now()\n",
    "    print(\"Current Date and Time:\", current_datetime)\n",
    "\n",
    "def create_folder_on_desktop(folder_name):\n",
    "    desktop_path = os.path.join(os.path.expanduser('~'), 'Desktop')\n",
    "    folder_path = os.path.join(desktop_path, folder_name)\n",
    "    os.makedirs(folder_path)\n",
    "    print(\"Folder created successfully at:\", folder_path)\n",
    "\n",
    "def create_file_on_desktop(file_name):\n",
    "    desktop_path = os.path.join(os.path.expanduser('~'), 'Desktop')\n",
    "    file_path = os.path.join(desktop_path, file_name)\n",
    "    with open(file_path, 'w') as file:\n",
    "        file.write(\"This is a sample file created by the program.\")\n",
    "    print(\"File created successfully at:\", file_path)\n",
    "\n",
    "def shutdown_window():\n",
    "    os.system(\"shutdown /s /t 1\")\n",
    "    print(\"Shutting down the window...\")\n",
    "\n",
    "def main():\n",
    "    user_input = input(\"Enter your choice (1, 2, 3, 4): \")\n",
    "    \n",
    "    if user_input == '1':\n",
    "        print_current_datetime()\n",
    "    elif user_input == '2':\n",
    "        folder_name = input(\"Enter the folder name: \")\n",
    "        create_folder_on_desktop(folder_name)\n",
    "    elif user_input == '3':\n",
    "        file_name = input(\"Enter the file name: \")\n",
    "        create_file_on_desktop(file_name)\n",
    "    elif user_input == '4':\n",
    "        shutdown_window()\n",
    "    else:\n",
    "        print(\"Invalid input. Please enter 1, 2, 3, or 4.\")\n",
    "\n",
    "if _name_ == \"_main_\":\n",
    "    main()"
   ]
  },
  {
   "cell_type": "code",
   "execution_count": 15,
   "id": "01add71b-d728-4344-86b1-54ba5377bec6",
   "metadata": {},
   "outputs": [
    {
     "name": "stdin",
     "output_type": "stream",
     "text": [
      "enter units 20\n"
     ]
    },
    {
     "name": "stdout",
     "output_type": "stream",
     "text": [
      "200\n"
     ]
    }
   ],
   "source": [
    "#que 1\n",
    "unit=int(input(\"enter units\"))\n",
    "price\n",
    "if(unit>=10):\n",
    "    price+=10*50\n",
    "    unit-=10\n",
    "else:\n",
    "    price+=unit*10\n",
    "    unit=0\n",
    "\n",
    "if(unit>=20):\n",
    "    price+=20*20\n",
    "    unit-=20\n",
    "\n",
    "else:\n",
    "    price=unit*20\n",
    "    unit=0\n",
    "price+=unit*10\n",
    "print(price)\n",
    "    \n",
    "    \n",
    "    \n",
    "    \n",
    "   \n"
   ]
  },
  {
   "cell_type": "code",
   "execution_count": 17,
   "id": "421d2131-8a91-4b3c-aff6-3452cd0fbbf8",
   "metadata": {},
   "outputs": [
    {
     "name": "stdin",
     "output_type": "stream",
     "text": [
      "enter no 1 35\n",
      "enter no 2 00\n"
     ]
    },
    {
     "name": "stdout",
     "output_type": "stream",
     "text": [
      "not divisible 35\n",
      "divisible  0\n"
     ]
    }
   ],
   "source": [
    "x1=int(input(\"enter no 1\"))\n",
    "x2=int(input(\"enter no 2\"))\n",
    "if(x1%2==0 and x1%3==0):\n",
    "    print(\"divisible by 6 no is\",x1)\n",
    "else:\n",
    "    print(\"not divisible\",x1)\n",
    "if(x2%2==0 and x2%3==0):\n",
    "    print(\"divisible by 6 \",x2)\n",
    "else:\n",
    "    print(\"not divisible\",x2)\n"
   ]
  },
  {
   "cell_type": "code",
   "execution_count": 18,
   "id": "e7627694-6c2f-4ac6-9f1d-926d716e0830",
   "metadata": {},
   "outputs": [
    {
     "name": "stdin",
     "output_type": "stream",
     "text": [
      "enter the first side: 20\n",
      "enter the second side: 20\n",
      "enter the third side: 5\n"
     ]
    },
    {
     "name": "stdout",
     "output_type": "stream",
     "text": [
      "its a traingle\n"
     ]
    }
   ],
   "source": [
    "x1=int(input(\"enter the first side:\"))\n",
    "x2=int(input(\"enter the second side:\"))\n",
    "x3=int(input(\"enter the third side:\"))\n",
    "if(x1+x2>=x3 and x2+x3>=x1 and x3+x1>=x2):\n",
    "    print(\"its a traingle\")\n",
    "    \n",
    "else:\n",
    "    print(\"its not a triangle\")"
   ]
  },
  {
   "cell_type": "code",
   "execution_count": null,
   "id": "89954d02-b499-463f-9b48-b7da47030d4f",
   "metadata": {},
   "outputs": [],
   "source": [
    "from datetime import date\n",
    "import os\n",
    "no=int(input(\"enter no\"))\n",
    "if(no==1):\n",
    "    print(date.today())\n",
    "\n",
    "#elif(no==2):\n",
    "    \n",
    "\n",
    "    \n",
    "    \n"
   ]
  },
  {
   "cell_type": "code",
   "execution_count": null,
   "id": "31069ab3-7418-41ea-be85-6ee8e0807c8e",
   "metadata": {},
   "outputs": [],
   "source": []
  }
 ],
 "metadata": {
  "kernelspec": {
   "display_name": "Python 3 (ipykernel)",
   "language": "python",
   "name": "python3"
  },
  "language_info": {
   "codemirror_mode": {
    "name": "ipython",
    "version": 3
   },
   "file_extension": ".py",
   "mimetype": "text/x-python",
   "name": "python",
   "nbconvert_exporter": "python",
   "pygments_lexer": "ipython3",
   "version": "3.12.0"
  }
 },
 "nbformat": 4,
 "nbformat_minor": 5
}
